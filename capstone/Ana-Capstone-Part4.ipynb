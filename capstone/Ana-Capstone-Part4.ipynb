{
 "cells": [
  {
   "cell_type": "markdown",
   "metadata": {},
   "source": [
    "# Capstone - Comparing ML models for single-label text classification (Part 4)"
   ]
  },
  {
   "cell_type": "markdown",
   "metadata": {},
   "source": [
    "**Table of Contents**\n",
    "<div id=\"toc\"></div>"
   ]
  },
  {
   "cell_type": "markdown",
   "metadata": {},
   "source": [
    "## Problem statement, goals and success criteria"
   ]
  },
  {
   "cell_type": "markdown",
   "metadata": {},
   "source": [
    "Text Classification techniques are necessary to find relevant information in many different tasks that deal with large quantities of information in text form.  Some of the most common tasks where these techniques are applied include: finding answers to similar questions that have been answered before; classifying news by subject or newsgroup; sorting spam from legitimate e-mail messages; finding web pages on a given subject, among others. In each case, the goal is to assign the appropriate class or label to each document that needs to be classified.\n",
    "\n",
    "Depending on the application, documents can be classified into one or more classes.  For instance, a piece of news regarding how the Prime Minister spent his holidays may be classified both as politics and in the social column.  In other situations, however, documents can have only one classification, for example, when distinguishing between spam and legitimate e-mail messages.  The focus of this work is where each document belongs to a single class, that is, single-label classification.\n",
    "\n",
    "I will use multiple Machine Learning models and compare how well they perform on single-label text classification tasks using some well known public datasets that are actively used for research.\n",
    "\n",
    "The main goal is to reproduce part of my PhD work using state-of-the-art libraries in Python (sklearn, matplotlib, seaborn), and be able to assess how this area evolved in the past 10 years.\n",
    "\n",
    "I consider this work will be successful if I am able to reproduce the initial \"related work\" from my thesis, which at the time took over one year to complete, for this capstone project.  I expect results to be approximately the same as previously published results, and I will even apply some Machine Learning models that I did not use at the time, but that are currently available in the libraries I will use."
   ]
  },
  {
   "cell_type": "markdown",
   "metadata": {},
   "source": [
    "## Explain data and run statistical analysis"
   ]
  },
  {
   "cell_type": "markdown",
   "metadata": {},
   "source": [
    "There are many datasets that are actively used for research in text categorisation.  The reason to have \"standard\" datasets available for research is to facilitate the comparison of results from different algorithms and different researchers.  Some of these datasets already have a pre-defined train/test split, once more to facilitate comparison of results across different settings.  I chose to use three of the datasets publicly available, with the pre-defined train/test split for each one of them.  The datasets were available as .csv files from [this webpage](http://ana.cachopo.org/datasets-for-single-label-text-categorization).\n",
    "\n",
    "### 20 Newsgroups\n",
    "\n",
    "The 20Newsgroups dataset originated from Jason Rennie's page and is a collection of approximately 20,000 newsgroup documents, partitioned (nearly) evenly across 20 different newsgroups.  In this work I will use the \"bydate\" version, because it already had a standard train/test split.\n",
    "\n",
    "### Reuters-21578\n",
    "\n",
    "The Reuters-21578 dataset originated from from David Lewis' page and is a collection of documents that appeared on the Reuters newswire in 1987 and were manually classified by personnel from Reuters Ltd.  In this work I will use the standard \"modApté\" train/test split.\n",
    "\n",
    "Due to the fact that the class distribution for these documents is very skewed, two sub-collections are usually considered for text classification tasks:\n",
    "\n",
    "- R10 - The set of the 10 classes with the highest number of positive training examples.\n",
    "- R90 - The set of the 90 classes with at least one positive training and testing example.\n",
    "\n",
    "Moreover, many of these documents are classified as having no topic at all or with more than one topic.  As the goal in this work is to consider single-labeled datasets, all the documents with less than one or with more than one topic were eliminated. With this, some of the classes in R10 and R90 were left with no train or test documents.\n",
    "\n",
    "Considering only the documents with a single topic and the classes which still have at least one train and one test example, we are left with 8 of the 10 most frequent classes and 52 of the original 90.\n",
    "\n",
    "Following the usual convention, I will call these sets R8 and R52.  Note that from R10 to R8 the classes 'corn' and 'wheat', which are intimately related to the class 'grain' disapeared and this last class lost many of its documents (because they had multiple labels).\n",
    "\n",
    "### Load files and check numbers of documents per class\n",
    "\n",
    "The first step is to read all the files and check that the number of documents in each class matches what was previously published.  Looking at the `xxx_counts` dataframes below and comparing them with the tables in [this webpage](http://ana.cachopo.org/datasets-for-single-label-text-categorization), we can see that they match."
   ]
  },
  {
   "cell_type": "code",
   "execution_count": 21,
   "metadata": {
    "collapsed": true
   },
   "outputs": [],
   "source": [
    "from __future__ import division, print_function, unicode_literals\n",
    "import pandas as pd\n",
    "import numpy as np\n",
    "import matplotlib.pyplot as plt\n",
    "import seaborn as sns\n",
    "%matplotlib inline"
   ]
  },
  {
   "cell_type": "code",
   "execution_count": 22,
   "metadata": {
    "collapsed": true
   },
   "outputs": [],
   "source": [
    "def read_file(filename):\n",
    "    \"\"\"Reads one csv file without header and two columns separated by a TAB\"\"\"\n",
    "    return pd.read_csv(\"./datasets/\"+filename, \n",
    "                       header=None, sep='\\t', \n",
    "                       names=['label', 'text'])"
   ]
  },
  {
   "cell_type": "code",
   "execution_count": 23,
   "metadata": {
    "collapsed": false
   },
   "outputs": [
    {
     "name": "stdout",
     "output_type": "stream",
     "text": [
      "ng20_train_df (#rows, #columns): (11293, 2)\n",
      "         label                                               text\n",
      "0  alt.atheism  alt atheism faq atheist resources archive name...\n",
      "ng20_test_df (#rows, #columns): (7528, 2)\n",
      "         label                                               text\n",
      "0  alt.atheism  re about the bible quiz answers in article hea...\n",
      "r52_train_df (#rows, #columns): (6532, 2)\n",
      "   label                                               text\n",
      "0  cocoa  bahia cocoa review showers continued throughou...\n",
      "r52_test_df (#rows, #columns): (2568, 2)\n",
      "   label                                               text\n",
      "0  trade  asian exporters fear damage from u s japan rif...\n",
      "r8_train_df (#rows, #columns): (5485, 2)\n",
      "  label                                               text\n",
      "0  earn  champion products ch approves stock split cham...\n",
      "r8_test_df (#rows, #columns): (2189, 2)\n",
      "   label                                               text\n",
      "0  trade  asian exporters fear damage from u s japan rif...\n"
     ]
    }
   ],
   "source": [
    "ng20_train_df = read_file('ng20-train-all-terms.txt')\n",
    "ng20_test_df = read_file('ng20-test-all-terms.txt')\n",
    "r52_train_df = read_file('r52-train-all-terms.txt')\n",
    "r52_test_df = read_file('r52-test-all-terms.txt')\n",
    "r8_train_df = read_file('r8-train-all-terms.txt')\n",
    "r8_test_df = read_file('r8-test-all-terms.txt')\n",
    "\n",
    "all_dfs = [ng20_train_df, ng20_test_df, \n",
    "           r52_train_df, r52_test_df, \n",
    "           r8_train_df, r8_test_df]\n",
    "\n",
    "all_df_names = [\"ng20_train_df\", \"ng20_test_df\", \n",
    "                \"r52_train_df\", \"r52_test_df\", \n",
    "                \"r8_train_df\", \"r8_test_df\"]\n",
    "\n",
    "# check that all files were read by printing the shape\n",
    "# of the resulting dataframe and the first document\n",
    "for (df, name) in zip(all_dfs, all_df_names):\n",
    "    print(name, \"(#rows, #columns):\", df.shape)\n",
    "    print(df.head(1))"
   ]
  },
  {
   "cell_type": "code",
   "execution_count": 24,
   "metadata": {
    "collapsed": true
   },
   "outputs": [],
   "source": [
    "def create_counts_df(df_train, df_test):\n",
    "    \"\"\"Receives two dataframes with train and test documents\n",
    "    and returns a dataframe with the number of train, \n",
    "    test and total documents per class.\n",
    "    Assumes both dataframes have the same classes.\"\"\"\n",
    "    counts_df = pd.concat([df_train[\"label\"].value_counts(), \n",
    "                           df_test[\"label\"].value_counts()], \n",
    "                          axis=1, keys=[\"# train docs\", \"# test docs\"])\n",
    "    counts_df[\"total # docs\"] = counts_df.sum(axis=1)\n",
    "    counts_df.loc[\"Total\"] = counts_df.sum()\n",
    "    return counts_df"
   ]
  },
  {
   "cell_type": "code",
   "execution_count": 25,
   "metadata": {
    "collapsed": false
   },
   "outputs": [
    {
     "data": {
      "text/html": [
       "<div>\n",
       "<table border=\"1\" class=\"dataframe\">\n",
       "  <thead>\n",
       "    <tr style=\"text-align: right;\">\n",
       "      <th></th>\n",
       "      <th># train docs</th>\n",
       "      <th># test docs</th>\n",
       "      <th>total # docs</th>\n",
       "    </tr>\n",
       "  </thead>\n",
       "  <tbody>\n",
       "    <tr>\n",
       "      <th>alt.atheism</th>\n",
       "      <td>480</td>\n",
       "      <td>319</td>\n",
       "      <td>799</td>\n",
       "    </tr>\n",
       "    <tr>\n",
       "      <th>comp.graphics</th>\n",
       "      <td>584</td>\n",
       "      <td>389</td>\n",
       "      <td>973</td>\n",
       "    </tr>\n",
       "    <tr>\n",
       "      <th>comp.os.ms-windows.misc</th>\n",
       "      <td>572</td>\n",
       "      <td>394</td>\n",
       "      <td>966</td>\n",
       "    </tr>\n",
       "    <tr>\n",
       "      <th>comp.sys.ibm.pc.hardware</th>\n",
       "      <td>590</td>\n",
       "      <td>392</td>\n",
       "      <td>982</td>\n",
       "    </tr>\n",
       "    <tr>\n",
       "      <th>comp.sys.mac.hardware</th>\n",
       "      <td>578</td>\n",
       "      <td>385</td>\n",
       "      <td>963</td>\n",
       "    </tr>\n",
       "    <tr>\n",
       "      <th>comp.windows.x</th>\n",
       "      <td>593</td>\n",
       "      <td>392</td>\n",
       "      <td>985</td>\n",
       "    </tr>\n",
       "    <tr>\n",
       "      <th>misc.forsale</th>\n",
       "      <td>585</td>\n",
       "      <td>390</td>\n",
       "      <td>975</td>\n",
       "    </tr>\n",
       "    <tr>\n",
       "      <th>rec.autos</th>\n",
       "      <td>594</td>\n",
       "      <td>395</td>\n",
       "      <td>989</td>\n",
       "    </tr>\n",
       "    <tr>\n",
       "      <th>rec.motorcycles</th>\n",
       "      <td>598</td>\n",
       "      <td>398</td>\n",
       "      <td>996</td>\n",
       "    </tr>\n",
       "    <tr>\n",
       "      <th>rec.sport.baseball</th>\n",
       "      <td>597</td>\n",
       "      <td>397</td>\n",
       "      <td>994</td>\n",
       "    </tr>\n",
       "    <tr>\n",
       "      <th>rec.sport.hockey</th>\n",
       "      <td>600</td>\n",
       "      <td>399</td>\n",
       "      <td>999</td>\n",
       "    </tr>\n",
       "    <tr>\n",
       "      <th>sci.crypt</th>\n",
       "      <td>595</td>\n",
       "      <td>396</td>\n",
       "      <td>991</td>\n",
       "    </tr>\n",
       "    <tr>\n",
       "      <th>sci.electronics</th>\n",
       "      <td>591</td>\n",
       "      <td>393</td>\n",
       "      <td>984</td>\n",
       "    </tr>\n",
       "    <tr>\n",
       "      <th>sci.med</th>\n",
       "      <td>594</td>\n",
       "      <td>396</td>\n",
       "      <td>990</td>\n",
       "    </tr>\n",
       "    <tr>\n",
       "      <th>sci.space</th>\n",
       "      <td>593</td>\n",
       "      <td>394</td>\n",
       "      <td>987</td>\n",
       "    </tr>\n",
       "    <tr>\n",
       "      <th>soc.religion.christian</th>\n",
       "      <td>598</td>\n",
       "      <td>398</td>\n",
       "      <td>996</td>\n",
       "    </tr>\n",
       "    <tr>\n",
       "      <th>talk.politics.guns</th>\n",
       "      <td>545</td>\n",
       "      <td>364</td>\n",
       "      <td>909</td>\n",
       "    </tr>\n",
       "    <tr>\n",
       "      <th>talk.politics.mideast</th>\n",
       "      <td>564</td>\n",
       "      <td>376</td>\n",
       "      <td>940</td>\n",
       "    </tr>\n",
       "    <tr>\n",
       "      <th>talk.politics.misc</th>\n",
       "      <td>465</td>\n",
       "      <td>310</td>\n",
       "      <td>775</td>\n",
       "    </tr>\n",
       "    <tr>\n",
       "      <th>talk.religion.misc</th>\n",
       "      <td>377</td>\n",
       "      <td>251</td>\n",
       "      <td>628</td>\n",
       "    </tr>\n",
       "    <tr>\n",
       "      <th>Total</th>\n",
       "      <td>11293</td>\n",
       "      <td>7528</td>\n",
       "      <td>18821</td>\n",
       "    </tr>\n",
       "  </tbody>\n",
       "</table>\n",
       "</div>"
      ],
      "text/plain": [
       "                          # train docs  # test docs  total # docs\n",
       "alt.atheism                        480          319           799\n",
       "comp.graphics                      584          389           973\n",
       "comp.os.ms-windows.misc            572          394           966\n",
       "comp.sys.ibm.pc.hardware           590          392           982\n",
       "comp.sys.mac.hardware              578          385           963\n",
       "comp.windows.x                     593          392           985\n",
       "misc.forsale                       585          390           975\n",
       "rec.autos                          594          395           989\n",
       "rec.motorcycles                    598          398           996\n",
       "rec.sport.baseball                 597          397           994\n",
       "rec.sport.hockey                   600          399           999\n",
       "sci.crypt                          595          396           991\n",
       "sci.electronics                    591          393           984\n",
       "sci.med                            594          396           990\n",
       "sci.space                          593          394           987\n",
       "soc.religion.christian             598          398           996\n",
       "talk.politics.guns                 545          364           909\n",
       "talk.politics.mideast              564          376           940\n",
       "talk.politics.misc                 465          310           775\n",
       "talk.religion.misc                 377          251           628\n",
       "Total                            11293         7528         18821"
      ]
     },
     "execution_count": 25,
     "metadata": {},
     "output_type": "execute_result"
    }
   ],
   "source": [
    "ng20_counts = create_counts_df(ng20_train_df, ng20_test_df)\n",
    "ng20_counts"
   ]
  },
  {
   "cell_type": "code",
   "execution_count": 26,
   "metadata": {
    "collapsed": false
   },
   "outputs": [
    {
     "data": {
      "text/html": [
       "<div>\n",
       "<table border=\"1\" class=\"dataframe\">\n",
       "  <thead>\n",
       "    <tr style=\"text-align: right;\">\n",
       "      <th></th>\n",
       "      <th># train docs</th>\n",
       "      <th># test docs</th>\n",
       "      <th>total # docs</th>\n",
       "    </tr>\n",
       "  </thead>\n",
       "  <tbody>\n",
       "    <tr>\n",
       "      <th>acq</th>\n",
       "      <td>1596</td>\n",
       "      <td>696</td>\n",
       "      <td>2292</td>\n",
       "    </tr>\n",
       "    <tr>\n",
       "      <th>alum</th>\n",
       "      <td>31</td>\n",
       "      <td>19</td>\n",
       "      <td>50</td>\n",
       "    </tr>\n",
       "    <tr>\n",
       "      <th>bop</th>\n",
       "      <td>22</td>\n",
       "      <td>9</td>\n",
       "      <td>31</td>\n",
       "    </tr>\n",
       "    <tr>\n",
       "      <th>carcass</th>\n",
       "      <td>6</td>\n",
       "      <td>5</td>\n",
       "      <td>11</td>\n",
       "    </tr>\n",
       "    <tr>\n",
       "      <th>cocoa</th>\n",
       "      <td>46</td>\n",
       "      <td>15</td>\n",
       "      <td>61</td>\n",
       "    </tr>\n",
       "    <tr>\n",
       "      <th>coffee</th>\n",
       "      <td>90</td>\n",
       "      <td>22</td>\n",
       "      <td>112</td>\n",
       "    </tr>\n",
       "    <tr>\n",
       "      <th>copper</th>\n",
       "      <td>31</td>\n",
       "      <td>13</td>\n",
       "      <td>44</td>\n",
       "    </tr>\n",
       "    <tr>\n",
       "      <th>cotton</th>\n",
       "      <td>15</td>\n",
       "      <td>9</td>\n",
       "      <td>24</td>\n",
       "    </tr>\n",
       "    <tr>\n",
       "      <th>cpi</th>\n",
       "      <td>54</td>\n",
       "      <td>17</td>\n",
       "      <td>71</td>\n",
       "    </tr>\n",
       "    <tr>\n",
       "      <th>cpu</th>\n",
       "      <td>3</td>\n",
       "      <td>1</td>\n",
       "      <td>4</td>\n",
       "    </tr>\n",
       "    <tr>\n",
       "      <th>crude</th>\n",
       "      <td>253</td>\n",
       "      <td>121</td>\n",
       "      <td>374</td>\n",
       "    </tr>\n",
       "    <tr>\n",
       "      <th>dlr</th>\n",
       "      <td>3</td>\n",
       "      <td>3</td>\n",
       "      <td>6</td>\n",
       "    </tr>\n",
       "    <tr>\n",
       "      <th>earn</th>\n",
       "      <td>2840</td>\n",
       "      <td>1083</td>\n",
       "      <td>3923</td>\n",
       "    </tr>\n",
       "    <tr>\n",
       "      <th>fuel</th>\n",
       "      <td>4</td>\n",
       "      <td>7</td>\n",
       "      <td>11</td>\n",
       "    </tr>\n",
       "    <tr>\n",
       "      <th>gas</th>\n",
       "      <td>10</td>\n",
       "      <td>8</td>\n",
       "      <td>18</td>\n",
       "    </tr>\n",
       "    <tr>\n",
       "      <th>gnp</th>\n",
       "      <td>58</td>\n",
       "      <td>15</td>\n",
       "      <td>73</td>\n",
       "    </tr>\n",
       "    <tr>\n",
       "      <th>gold</th>\n",
       "      <td>70</td>\n",
       "      <td>20</td>\n",
       "      <td>90</td>\n",
       "    </tr>\n",
       "    <tr>\n",
       "      <th>grain</th>\n",
       "      <td>41</td>\n",
       "      <td>10</td>\n",
       "      <td>51</td>\n",
       "    </tr>\n",
       "    <tr>\n",
       "      <th>heat</th>\n",
       "      <td>6</td>\n",
       "      <td>4</td>\n",
       "      <td>10</td>\n",
       "    </tr>\n",
       "    <tr>\n",
       "      <th>housing</th>\n",
       "      <td>15</td>\n",
       "      <td>2</td>\n",
       "      <td>17</td>\n",
       "    </tr>\n",
       "    <tr>\n",
       "      <th>income</th>\n",
       "      <td>7</td>\n",
       "      <td>4</td>\n",
       "      <td>11</td>\n",
       "    </tr>\n",
       "    <tr>\n",
       "      <th>instal-debt</th>\n",
       "      <td>5</td>\n",
       "      <td>1</td>\n",
       "      <td>6</td>\n",
       "    </tr>\n",
       "    <tr>\n",
       "      <th>interest</th>\n",
       "      <td>190</td>\n",
       "      <td>81</td>\n",
       "      <td>271</td>\n",
       "    </tr>\n",
       "    <tr>\n",
       "      <th>ipi</th>\n",
       "      <td>33</td>\n",
       "      <td>11</td>\n",
       "      <td>44</td>\n",
       "    </tr>\n",
       "    <tr>\n",
       "      <th>iron-steel</th>\n",
       "      <td>26</td>\n",
       "      <td>12</td>\n",
       "      <td>38</td>\n",
       "    </tr>\n",
       "    <tr>\n",
       "      <th>jet</th>\n",
       "      <td>2</td>\n",
       "      <td>1</td>\n",
       "      <td>3</td>\n",
       "    </tr>\n",
       "    <tr>\n",
       "      <th>jobs</th>\n",
       "      <td>37</td>\n",
       "      <td>12</td>\n",
       "      <td>49</td>\n",
       "    </tr>\n",
       "    <tr>\n",
       "      <th>lead</th>\n",
       "      <td>4</td>\n",
       "      <td>4</td>\n",
       "      <td>8</td>\n",
       "    </tr>\n",
       "    <tr>\n",
       "      <th>lei</th>\n",
       "      <td>11</td>\n",
       "      <td>3</td>\n",
       "      <td>14</td>\n",
       "    </tr>\n",
       "    <tr>\n",
       "      <th>livestock</th>\n",
       "      <td>13</td>\n",
       "      <td>5</td>\n",
       "      <td>18</td>\n",
       "    </tr>\n",
       "    <tr>\n",
       "      <th>lumber</th>\n",
       "      <td>7</td>\n",
       "      <td>4</td>\n",
       "      <td>11</td>\n",
       "    </tr>\n",
       "    <tr>\n",
       "      <th>meal-feed</th>\n",
       "      <td>6</td>\n",
       "      <td>1</td>\n",
       "      <td>7</td>\n",
       "    </tr>\n",
       "    <tr>\n",
       "      <th>money-fx</th>\n",
       "      <td>206</td>\n",
       "      <td>87</td>\n",
       "      <td>293</td>\n",
       "    </tr>\n",
       "    <tr>\n",
       "      <th>money-supply</th>\n",
       "      <td>123</td>\n",
       "      <td>28</td>\n",
       "      <td>151</td>\n",
       "    </tr>\n",
       "    <tr>\n",
       "      <th>nat-gas</th>\n",
       "      <td>24</td>\n",
       "      <td>12</td>\n",
       "      <td>36</td>\n",
       "    </tr>\n",
       "    <tr>\n",
       "      <th>nickel</th>\n",
       "      <td>3</td>\n",
       "      <td>1</td>\n",
       "      <td>4</td>\n",
       "    </tr>\n",
       "    <tr>\n",
       "      <th>orange</th>\n",
       "      <td>13</td>\n",
       "      <td>9</td>\n",
       "      <td>22</td>\n",
       "    </tr>\n",
       "    <tr>\n",
       "      <th>pet-chem</th>\n",
       "      <td>13</td>\n",
       "      <td>6</td>\n",
       "      <td>19</td>\n",
       "    </tr>\n",
       "    <tr>\n",
       "      <th>platinum</th>\n",
       "      <td>1</td>\n",
       "      <td>2</td>\n",
       "      <td>3</td>\n",
       "    </tr>\n",
       "    <tr>\n",
       "      <th>potato</th>\n",
       "      <td>2</td>\n",
       "      <td>3</td>\n",
       "      <td>5</td>\n",
       "    </tr>\n",
       "    <tr>\n",
       "      <th>reserves</th>\n",
       "      <td>37</td>\n",
       "      <td>12</td>\n",
       "      <td>49</td>\n",
       "    </tr>\n",
       "    <tr>\n",
       "      <th>retail</th>\n",
       "      <td>19</td>\n",
       "      <td>1</td>\n",
       "      <td>20</td>\n",
       "    </tr>\n",
       "    <tr>\n",
       "      <th>rubber</th>\n",
       "      <td>31</td>\n",
       "      <td>9</td>\n",
       "      <td>40</td>\n",
       "    </tr>\n",
       "    <tr>\n",
       "      <th>ship</th>\n",
       "      <td>108</td>\n",
       "      <td>36</td>\n",
       "      <td>144</td>\n",
       "    </tr>\n",
       "    <tr>\n",
       "      <th>strategic-metal</th>\n",
       "      <td>9</td>\n",
       "      <td>6</td>\n",
       "      <td>15</td>\n",
       "    </tr>\n",
       "    <tr>\n",
       "      <th>sugar</th>\n",
       "      <td>97</td>\n",
       "      <td>25</td>\n",
       "      <td>122</td>\n",
       "    </tr>\n",
       "    <tr>\n",
       "      <th>tea</th>\n",
       "      <td>2</td>\n",
       "      <td>3</td>\n",
       "      <td>5</td>\n",
       "    </tr>\n",
       "    <tr>\n",
       "      <th>tin</th>\n",
       "      <td>17</td>\n",
       "      <td>10</td>\n",
       "      <td>27</td>\n",
       "    </tr>\n",
       "    <tr>\n",
       "      <th>trade</th>\n",
       "      <td>251</td>\n",
       "      <td>75</td>\n",
       "      <td>326</td>\n",
       "    </tr>\n",
       "    <tr>\n",
       "      <th>veg-oil</th>\n",
       "      <td>19</td>\n",
       "      <td>11</td>\n",
       "      <td>30</td>\n",
       "    </tr>\n",
       "    <tr>\n",
       "      <th>wpi</th>\n",
       "      <td>14</td>\n",
       "      <td>9</td>\n",
       "      <td>23</td>\n",
       "    </tr>\n",
       "    <tr>\n",
       "      <th>zinc</th>\n",
       "      <td>8</td>\n",
       "      <td>5</td>\n",
       "      <td>13</td>\n",
       "    </tr>\n",
       "    <tr>\n",
       "      <th>Total</th>\n",
       "      <td>6532</td>\n",
       "      <td>2568</td>\n",
       "      <td>9100</td>\n",
       "    </tr>\n",
       "  </tbody>\n",
       "</table>\n",
       "</div>"
      ],
      "text/plain": [
       "                 # train docs  # test docs  total # docs\n",
       "acq                      1596          696          2292\n",
       "alum                       31           19            50\n",
       "bop                        22            9            31\n",
       "carcass                     6            5            11\n",
       "cocoa                      46           15            61\n",
       "coffee                     90           22           112\n",
       "copper                     31           13            44\n",
       "cotton                     15            9            24\n",
       "cpi                        54           17            71\n",
       "cpu                         3            1             4\n",
       "crude                     253          121           374\n",
       "dlr                         3            3             6\n",
       "earn                     2840         1083          3923\n",
       "fuel                        4            7            11\n",
       "gas                        10            8            18\n",
       "gnp                        58           15            73\n",
       "gold                       70           20            90\n",
       "grain                      41           10            51\n",
       "heat                        6            4            10\n",
       "housing                    15            2            17\n",
       "income                      7            4            11\n",
       "instal-debt                 5            1             6\n",
       "interest                  190           81           271\n",
       "ipi                        33           11            44\n",
       "iron-steel                 26           12            38\n",
       "jet                         2            1             3\n",
       "jobs                       37           12            49\n",
       "lead                        4            4             8\n",
       "lei                        11            3            14\n",
       "livestock                  13            5            18\n",
       "lumber                      7            4            11\n",
       "meal-feed                   6            1             7\n",
       "money-fx                  206           87           293\n",
       "money-supply              123           28           151\n",
       "nat-gas                    24           12            36\n",
       "nickel                      3            1             4\n",
       "orange                     13            9            22\n",
       "pet-chem                   13            6            19\n",
       "platinum                    1            2             3\n",
       "potato                      2            3             5\n",
       "reserves                   37           12            49\n",
       "retail                     19            1            20\n",
       "rubber                     31            9            40\n",
       "ship                      108           36           144\n",
       "strategic-metal             9            6            15\n",
       "sugar                      97           25           122\n",
       "tea                         2            3             5\n",
       "tin                        17           10            27\n",
       "trade                     251           75           326\n",
       "veg-oil                    19           11            30\n",
       "wpi                        14            9            23\n",
       "zinc                        8            5            13\n",
       "Total                    6532         2568          9100"
      ]
     },
     "execution_count": 26,
     "metadata": {},
     "output_type": "execute_result"
    }
   ],
   "source": [
    "r52_counts = create_counts_df(r52_train_df, r52_test_df)\n",
    "r52_counts"
   ]
  },
  {
   "cell_type": "code",
   "execution_count": 27,
   "metadata": {
    "collapsed": false
   },
   "outputs": [
    {
     "data": {
      "text/html": [
       "<div>\n",
       "<table border=\"1\" class=\"dataframe\">\n",
       "  <thead>\n",
       "    <tr style=\"text-align: right;\">\n",
       "      <th></th>\n",
       "      <th># train docs</th>\n",
       "      <th># test docs</th>\n",
       "      <th>total # docs</th>\n",
       "    </tr>\n",
       "  </thead>\n",
       "  <tbody>\n",
       "    <tr>\n",
       "      <th>acq</th>\n",
       "      <td>1596</td>\n",
       "      <td>696</td>\n",
       "      <td>2292</td>\n",
       "    </tr>\n",
       "    <tr>\n",
       "      <th>crude</th>\n",
       "      <td>253</td>\n",
       "      <td>121</td>\n",
       "      <td>374</td>\n",
       "    </tr>\n",
       "    <tr>\n",
       "      <th>earn</th>\n",
       "      <td>2840</td>\n",
       "      <td>1083</td>\n",
       "      <td>3923</td>\n",
       "    </tr>\n",
       "    <tr>\n",
       "      <th>grain</th>\n",
       "      <td>41</td>\n",
       "      <td>10</td>\n",
       "      <td>51</td>\n",
       "    </tr>\n",
       "    <tr>\n",
       "      <th>interest</th>\n",
       "      <td>190</td>\n",
       "      <td>81</td>\n",
       "      <td>271</td>\n",
       "    </tr>\n",
       "    <tr>\n",
       "      <th>money-fx</th>\n",
       "      <td>206</td>\n",
       "      <td>87</td>\n",
       "      <td>293</td>\n",
       "    </tr>\n",
       "    <tr>\n",
       "      <th>ship</th>\n",
       "      <td>108</td>\n",
       "      <td>36</td>\n",
       "      <td>144</td>\n",
       "    </tr>\n",
       "    <tr>\n",
       "      <th>trade</th>\n",
       "      <td>251</td>\n",
       "      <td>75</td>\n",
       "      <td>326</td>\n",
       "    </tr>\n",
       "    <tr>\n",
       "      <th>Total</th>\n",
       "      <td>5485</td>\n",
       "      <td>2189</td>\n",
       "      <td>7674</td>\n",
       "    </tr>\n",
       "  </tbody>\n",
       "</table>\n",
       "</div>"
      ],
      "text/plain": [
       "          # train docs  # test docs  total # docs\n",
       "acq               1596          696          2292\n",
       "crude              253          121           374\n",
       "earn              2840         1083          3923\n",
       "grain               41           10            51\n",
       "interest           190           81           271\n",
       "money-fx           206           87           293\n",
       "ship               108           36           144\n",
       "trade              251           75           326\n",
       "Total             5485         2189          7674"
      ]
     },
     "execution_count": 27,
     "metadata": {},
     "output_type": "execute_result"
    }
   ],
   "source": [
    "r8_counts = create_counts_df(r8_train_df, r8_test_df)\n",
    "r8_counts"
   ]
  },
  {
   "cell_type": "markdown",
   "metadata": {},
   "source": [
    "### Exploratory data analysis (EDA)"
   ]
  },
  {
   "cell_type": "markdown",
   "metadata": {},
   "source": [
    "#### Plot numbers of train and test documents per class for each dataset"
   ]
  },
  {
   "cell_type": "code",
   "execution_count": 28,
   "metadata": {
    "collapsed": false
   },
   "outputs": [
    {
     "data": {
      "text/plain": [
       "<matplotlib.axes._subplots.AxesSubplot at 0x118b15510>"
      ]
     },
     "execution_count": 28,
     "metadata": {},
     "output_type": "execute_result"
    },
    {
     "data": {
      "image/png": "[encoded data removed]",
      "text/plain": [
       "<matplotlib.figure.Figure at 0x1161d3b50>"
      ]
     },
     "metadata": {},
     "output_type": "display_data"
    }
   ],
   "source": [
    "# do not plot totals (last column, last row in counts dataframes)\n",
    "ng20_counts.iloc[:-1,:-1].plot.barh(stacked=True, \n",
    "                                    figsize=(9, 7),\n",
    "                                    title=\"Number of train and test documents per class for ng20\")"
   ]
  },
  {
   "cell_type": "markdown",
   "metadata": {},
   "source": [
    "The number of train and test documents is approximately ballanced for all the classes in the `ng20` dataset.  Also, there's the usual 2/3 1/3 train/test split."
   ]
  },
  {
   "cell_type": "code",
   "execution_count": 29,
   "metadata": {
    "collapsed": false
   },
   "outputs": [
    {
     "data": {
      "text/plain": [
       "<matplotlib.axes._subplots.AxesSubplot at 0x1045aa150>"
      ]
     },
     "execution_count": 29,
     "metadata": {},
     "output_type": "execute_result"
    },
    {
     "data": {
      "image/png": "[encoded data removed]",
      "text/plain": [
       "<matplotlib.figure.Figure at 0x116983f10>"
      ]
     },
     "metadata": {},
     "output_type": "display_data"
    }
   ],
   "source": [
    "# do not plot totals (last column, last row in counts dataframes)\n",
    "r52_counts.iloc[:-1,:-1].plot.barh(stacked=True, \n",
    "                                   figsize=(9, 7),\n",
    "                                   title=\"Number of train and test documents per class for r52\")"
   ]
  },
  {
   "cell_type": "markdown",
   "metadata": {},
   "source": [
    "The class distribution for the documents in the Reuters  dataset is very skewed, with the two most frequent classes containing approximately 70% of all the documents.  Also, even within each class, there's nolonger the usual 2/3 1/3 train/test split."
   ]
  },
  {
   "cell_type": "code",
   "execution_count": 30,
   "metadata": {
    "collapsed": false
   },
   "outputs": [
    {
     "data": {
      "text/plain": [
       "<matplotlib.axes._subplots.AxesSubplot at 0x115cc7710>"
      ]
     },
     "execution_count": 30,
     "metadata": {},
     "output_type": "execute_result"
    },
    {
     "data": {
      "image/png": "[encoded data removed]",
      "text/plain": [
       "<matplotlib.figure.Figure at 0x115c48e10>"
      ]
     },
     "metadata": {},
     "output_type": "display_data"
    }
   ],
   "source": [
    "# do not plot totals (last column, last row in counts dataframes)\n",
    "r8_counts.iloc[:-1,:-1].plot.barh(stacked=True, \n",
    "                                  figsize=(9, 7), \n",
    "                                  title=\"Number of train and test documents per class for r8\")"
   ]
  },
  {
   "cell_type": "markdown",
   "metadata": {},
   "source": [
    "Even considering only the 8 most frequent classes, the two most frequent classes in this dataset now account for approximately 80% of all the documents.   Also, even within each class, there's nolonger the usual 2/3 1/3 train/test split."
   ]
  },
  {
   "cell_type": "markdown",
   "metadata": {},
   "source": [
    "#### Count numbers of features for each dataset"
   ]
  },
  {
   "cell_type": "markdown",
   "metadata": {},
   "source": [
    "Use `CountVectorizer` to extract the words used in each training set.  I use only the training set because that's what the ML models will be able to use in the training phase.  The test set is only used for testing, so it should not be used to determine the set of features."
   ]
  },
  {
   "cell_type": "code",
   "execution_count": 31,
   "metadata": {
    "collapsed": true
   },
   "outputs": [],
   "source": [
    "from sklearn.feature_extraction.text import CountVectorizer\n",
    "\n",
    "def describe_dataset(name, df_train):\n",
    "    print(\"Dataset:\", name)\n",
    "\n",
    "    # consider all words\n",
    "    cvec = CountVectorizer()\n",
    "    cvec.fit(df_train[\"text\"])\n",
    "    with_stop = len(cvec.get_feature_names())\n",
    "    print(\"Number of features including stopwords:\", with_stop)\n",
    "\n",
    "    # remove english stopwords\n",
    "    cvec = CountVectorizer(stop_words=\"english\")\n",
    "    cvec.fit(df_train[\"text\"])\n",
    "    without_stop = len(cvec.get_feature_names())\n",
    "    print(\"Number of features excluding stopwords:\", without_stop)\n",
    "    \n",
    "    print(\"Difference in number of features:\", with_stop-without_stop)\n",
    "    return with_stop, without_stop"
   ]
  },
  {
   "cell_type": "code",
   "execution_count": 32,
   "metadata": {
    "collapsed": false
   },
   "outputs": [
    {
     "name": "stdout",
     "output_type": "stream",
     "text": [
      "Dataset: ng20\n",
      "Number of features including stopwords: 73686\n",
      "Number of features excluding stopwords: 73375\n",
      "Difference in number of features: 311\n"
     ]
    }
   ],
   "source": [
    "ng20_with_stop, ng20_without_stop = describe_dataset(\"ng20\", ng20_train_df)"
   ]
  },
  {
   "cell_type": "code",
   "execution_count": 33,
   "metadata": {
    "collapsed": false,
    "scrolled": true
   },
   "outputs": [
    {
     "name": "stdout",
     "output_type": "stream",
     "text": [
      "Dataset: r52\n",
      "Number of features including stopwords: 22248\n",
      "Number of features excluding stopwords: 21969\n",
      "Difference in number of features: 279\n"
     ]
    }
   ],
   "source": [
    "r52_with_stop, r52_without_stop = describe_dataset(\"r52\", r52_train_df)"
   ]
  },
  {
   "cell_type": "code",
   "execution_count": 34,
   "metadata": {
    "collapsed": false
   },
   "outputs": [
    {
     "name": "stdout",
     "output_type": "stream",
     "text": [
      "Dataset: r8\n",
      "Number of features including stopwords: 19956\n",
      "Number of features excluding stopwords: 19679\n",
      "Difference in number of features: 277\n"
     ]
    }
   ],
   "source": [
    "r8_with_stop, r8_without_stop = describe_dataset(\"r8\", r8_train_df)"
   ]
  },
  {
   "cell_type": "markdown",
   "metadata": {},
   "source": [
    "It's interesting to note that different datasets use different numbers of stopwords, and datasets with more features also tend to use more stopwords.\n",
    "\n",
    "The number of stopwords (around 300) is small relatively to the total number of features (20k for the smallest dataset), so we can simply compare the total number of features for these datasets in the folowing plot."
   ]
  },
  {
   "cell_type": "code",
   "execution_count": 35,
   "metadata": {
    "collapsed": false
   },
   "outputs": [
    {
     "data": {
      "text/plain": [
       "<matplotlib.axes._subplots.AxesSubplot at 0x11690bad0>"
      ]
     },
     "execution_count": 35,
     "metadata": {},
     "output_type": "execute_result"
    },
    {
     "data": {
      "image/png": "[encoded data removed]",
      "text/plain": [
       "<matplotlib.figure.Figure at 0x1156cdad0>"
      ]
     },
     "metadata": {},
     "output_type": "display_data"
    }
   ],
   "source": [
    "features_df = pd.DataFrame({\"ng20\": [ng20_with_stop],\n",
    "                            \"r52\": [r52_with_stop],\n",
    "                            \"r8\": [r8_with_stop]},\n",
    "                           index=[\"# features \\n (including stopwords)\"])\n",
    "features_df[[\"r8\",\"r52\",\"ng20\"]].plot.barh(title=\"Number of features per dataset\")"
   ]
  },
  {
   "cell_type": "code",
   "execution_count": 36,
   "metadata": {
    "collapsed": false
   },
   "outputs": [
    {
     "data": {
      "text/plain": [
       "<matplotlib.axes._subplots.AxesSubplot at 0x116823e10>"
      ]
     },
     "execution_count": 36,
     "metadata": {},
     "output_type": "execute_result"
    },
    {
     "data": {
      "image/png": "[encoded data removed]",
      "text/plain": [
       "<matplotlib.figure.Figure at 0x11556e3d0>"
      ]
     },
     "metadata": {},
     "output_type": "display_data"
    }
   ],
   "source": [
    "train_docs_df = pd.DataFrame({\"ng20\": ng20_counts.loc[\"Total\"][\"# train docs\"],\n",
    "                              \"r52\": r52_counts.loc[\"Total\"][\"# train docs\"],\n",
    "                              \"r8\": r8_counts.loc[\"Total\"][\"# train docs\"]},\n",
    "                             index=[\"# train docs\"])\n",
    "train_docs_df[[\"r8\",\"r52\",\"ng20\"]].plot.barh(title=\"Number of train documents per dataset\")"
   ]
  },
  {
   "cell_type": "markdown",
   "metadata": {},
   "source": [
    "From the last two plots together, we can see that:\n",
    "\n",
    "- The 20Newsgroups dataset has a much bigger vocabulary than either of the Reuters datasets.\n",
    "- Because `r8` is a subset of `r52`, it has a smaller vocabulary (this was to be expected), but not much smaller.\n",
    "- Even though the number of train documents does not even double from `r52` to `ng20`, the number of features (or different words) more than triples.  We can conjecture that people use more words when they are freely posting to newsgroups than when they are writing newswire articles."
   ]
  },
  {
   "cell_type": "markdown",
   "metadata": {},
   "source": [
    "#### Determine most common words for each dataset"
   ]
  },
  {
   "cell_type": "markdown",
   "metadata": {},
   "source": [
    "Here I will create two csv files for each dataset, one before and one after removing stopwords.  The files will contain the most common words in the dataset (once more, considering only the training set).  It should be interesting to see if the most common words change significantly  by removing english stopwords.  Stopwords are very common words in a language, that appear frequently in texts, but that do not have a high discriminative power.  Examples of stopwords in english are \"the\", \"to\", and \"and\"."
   ]
  },
  {
   "cell_type": "code",
   "execution_count": 37,
   "metadata": {
    "collapsed": true
   },
   "outputs": [],
   "source": [
    "from sklearn.feature_extraction.text import CountVectorizer\n",
    "\n",
    "def create_word_counts_csv(docs, out_file, stopwords=None):\n",
    "    \"\"\"Creates a csv file with word counts for 50 most\n",
    "    frequent words in the docs.\n",
    "    Is *inefficient* because it creates a dense matrix, \n",
    "    but only needs to be used once for each dataset.\"\"\"\n",
    "    cvec = CountVectorizer(stop_words=stopwords)\n",
    "    cvec.fit(docs)\n",
    "\n",
    "    df = pd.DataFrame(cvec.transform(docs).todense(),\n",
    "                      columns=cvec.get_feature_names())\n",
    "\n",
    "    df_word_counts = df.sum(axis=0)\n",
    "    df_word_counts.sort_values(ascending=False, inplace=True)\n",
    "    df_word_counts[:50].to_csv(out_file)"
   ]
  },
  {
   "cell_type": "markdown",
   "metadata": {},
   "source": [
    "The next three cells do not need to be run after the initial creation of the csv files for each dataset.  They take a long time and use a significant amount of memory, because I am creating a dense matrix, then creating a dataframe and then using it to count the most frequent words in each dataset.  I did not worry about optimising this, because it will only be run once to perform the initial EDA.\n",
    "\n",
    "I turned the cell type to \"raw\", so that I can run all cells in this notebook and not waste time defining variables that will not be used anywhere else.  Turn the cell type to \"code\" if they are to be run again."
   ]
  },
  {
   "cell_type": "raw",
   "metadata": {},
   "source": [
    "create_word_counts_csv(ng20_train_df[\"text\"], \n",
    "                       \"../datasets/ng20_most_common_words_including_stopwords.csv\")\n",
    "create_word_counts_csv(ng20_train_df[\"text\"], \n",
    "                       \"../datasets/ng20_most_common_words_excluding_stopwords.csv\",\n",
    "                      stopwords=\"english\")"
   ]
  },
  {
   "cell_type": "raw",
   "metadata": {},
   "source": [
    "create_word_counts_csv(r52_train_df[\"text\"], \n",
    "                       \"../datasets/r52_most_common_words_including_stopwords.csv\")\n",
    "create_word_counts_csv(r52_train_df[\"text\"], \n",
    "                       \"../datasets/r52_most_common_words_excluding_stopwords.csv\",\n",
    "                      stopwords=\"english\")"
   ]
  },
  {
   "cell_type": "raw",
   "metadata": {},
   "source": [
    "create_word_counts_csv(r8_train_df[\"text\"], \n",
    "                       \"../datasets/r8_most_common_words_including_stopwords.csv\")\n",
    "create_word_counts_csv(r8_train_df[\"text\"], \n",
    "                       \"../datasets/r8_most_common_words_excluding_stopwords.csv\",\n",
    "                      stopwords=\"english\")"
   ]
  },
  {
   "cell_type": "markdown",
   "metadata": {},
   "source": [
    "#### Create word clouds (using Tableau) for each dataset\n",
    "\n",
    "This is how to create a word cloud in Tableau, from a csv that is a two-column table with a list of the unique words in the first column [Words] and their frequencies in the second column [Word Count]:\n",
    "\n",
    "1. Open the file with Tableau.\n",
    "2. Drag [Words] to the Text Control of the Marks Shelf.\n",
    "3. Drag [Word Count] to the Size Control of the Marks Shelf.\n",
    "4. Change the Marks Type from Automatic to Text.\n",
    "5. To color the Word Cloud, drag [Words] to the Colors Control of the Marks Shelf."
   ]
  },
  {
   "cell_type": "markdown",
   "metadata": {},
   "source": [
    "<tr>\n",
    "<td> ![png](./fig-ng20-incl-stop.png) </td>\n",
    "<td> ![png](./fig-ng20-excl-stop.png) </td>\n",
    "</tr>\n",
    "<tr>\n",
    "<td> ![png](./fig-r52-incl-stop.png) </td>\n",
    "<td> ![png](./fig-r52-excl-stop.png) </td>\n",
    "</tr>\n",
    "<tr>\n",
    "<td> ![png](./fig-r8-incl-stop.png) </td>\n",
    "<td> ![png](./fig-r8-excl-stop.png) </td>\n",
    "</tr>"
   ]
  },
  {
   "cell_type": "markdown",
   "metadata": {},
   "source": [
    "These word clouds look nice, but that's not the only reason why they are here.  By looking at them we can take some valuable insights:\n",
    "\n",
    "- I labeled each word cloud with the dataset, but I did not indicate if it was before or after removing stopwords.  We can easily see that the in the left column all clouds contain big words like \"the\", \"to\", \"of\". These words do not bring much to the meaning of a sentence, and they do not appear in the clouds in the right.  The clouds in the right are the ones obtained after removing stopwords.\n",
    "- After removing stopwords (clouds in the right column), word sizes are more uniform (as are word counts).\n",
    "- Words in the `ng20` and `r*` clouds are very different.  This can be attributed to these datasets being about different subjects.\n",
    "- Words in the `r52` and `r8` clouds are more similar.  This can be attributed to `r8` being a subset of `r52`, thus about some of the same subjects."
   ]
  },
  {
   "cell_type": "markdown",
   "metadata": {},
   "source": [
    "## Apply different models to data \n",
    "\n",
    "Here I start by reproducing (as closely as possible) some of the previously published results for these datasets.  I then work on improving those results by using different models, or features, or optimising model parameters.  I use the standard train and test splits for these datasets, so that these results are comparable to others: train using the train set (eventually using cross-validation), evaluate using the test set (which was not seen by the model before)."
   ]
  },
  {
   "cell_type": "markdown",
   "metadata": {},
   "source": [
    "### Reproduce previous results for these datasets\n",
    "\n",
    "The first goal is to be able to reproduce previously published results for these datasets.  I will apply the ML models mentioned in the [webpage from where I got the data](http://ana.cachopo.org/datasets-for-single-label-text-categorization).  We can see a summary of those results in the following table.  This table includes two datasets that are not used in this work, because they are not as well known in the literature (WebKB and Cade12).\n",
    "\n",
    "![png](./fig-results-initial-webpage.png)"
   ]
  },
  {
   "cell_type": "code",
   "execution_count": 38,
   "metadata": {
    "collapsed": true
   },
   "outputs": [],
   "source": [
    "from sklearn.feature_extraction.text import CountVectorizer\n",
    "from sklearn.feature_extraction.text import TfidfVectorizer\n",
    "from sklearn.decomposition import TruncatedSVD\n",
    "\n",
    "from sklearn.dummy import DummyClassifier\n",
    "from sklearn.neighbors import KNeighborsClassifier\n",
    "from sklearn.neighbors import NearestCentroid\n",
    "from sklearn.naive_bayes import MultinomialNB\n",
    "from sklearn.svm import LinearSVC\n",
    "\n",
    "from sklearn.metrics import confusion_matrix, accuracy_score"
   ]
  },
  {
   "cell_type": "code",
   "execution_count": 39,
   "metadata": {
    "collapsed": false
   },
   "outputs": [],
   "source": [
    "def to_tfidf(df_train, df_test):\n",
    "    \"\"\"Receives the train and test dataframes (columns: label, text) and \n",
    "    returns the X_train, y_train, X_test, y_test necessary to fit the models.\n",
    "    The X_train and X_test feature matrices contain tfidf values.\"\"\"\n",
    "    vec = TfidfVectorizer(stop_words='english', smooth_idf=False)\n",
    "    vec.fit(df_train[\"text\"])\n",
    "    X_train = vec.transform(df_train[\"text\"])\n",
    "    y_train = df_train[\"label\"]\n",
    "    X_test = vec.transform(df_test[\"text\"])\n",
    "    y_test = df_test[\"label\"]\n",
    "    return X_train, y_train, X_test, y_test\n",
    "    \n",
    "def apply_model(model, X_train, y_train, X_test, y_test):\n",
    "    \"\"\"Returns the Accuracy score of fitting the model with\n",
    "    the train data and predicting for the test data.\"\"\"\n",
    "    model.fit(X_train, y_train)\n",
    "    y_pred = model.predict(X_test)\n",
    "    score = accuracy_score(y_test, y_pred)\n",
    "    return score\n",
    "\n",
    "def apply_models(models, df_train, df_test, use_lsi=False):\n",
    "    \"\"\"Returns a list of (model_name, accuracy) that results from \n",
    "    applying each model to the train and test dataframes.\n",
    "    use_lsi indicates if it should be applied to the documents features\n",
    "    before using the model; default False.\"\"\"\n",
    "    X_train, y_train, X_test, y_test = to_tfidf(df_train, df_test)\n",
    "    if use_lsi:\n",
    "        svd = TruncatedSVD(n_components=200, random_state=42)\n",
    "        X_train = svd.fit_transform(X_train)\n",
    "        X_test = svd.transform(X_test)\n",
    "\n",
    "    return [(name, apply_model(model, X_train, y_train, X_test, y_test)) \\\n",
    "            for (name, model) in models]"
   ]
  },
  {
   "cell_type": "markdown",
   "metadata": {},
   "source": [
    "#### Difficulties encountered when trying to reproduce previous work\n",
    "\n",
    "- The implementation of tfidf feature selection is not the same, because sklearn uses smoothing and my initial implementation did not.  This fact alone will lead to different results in all models that use these features for classification.\n",
    "- Not all previous models have a direct implementation in sklearn, so for some of them I had to choose the most similar model that I could find in sklearn, and expect results to be different.\n",
    "- This is a very short description of the ML models that were used and how they were implemented here, if there was not a direct way of doing so:\n",
    "\n",
    "    - The \"Dumb Classifier\" determines the class of a test document by finding the most frequent class in the train set and returning it every time.\n",
    "    - The \"Vector Method\" determines the class of a test document by finding the most similar train document (using cosine similarity) and returning its class.  It was implemented in this work by using kNN, where the number of \"neighbours\" to consider is 1.\n",
    "    - The \"kNN (k=10)\" method determines the class of a test document by finding the k most similar train documents (using cosine similarity) and returning the most frequent class in those documents.\n",
    "    - The \"Centroid\" method determines the class of a test document by finding the most similar centroid and returning its class.  In sklearn this method calculates one centroid for each class by determining the mean of all the documents in that class.  In my thesis, I calculated the centroid for each class by determining the sum of all the documents in that class and normalising it to unitary length.\n",
    "    - The \"Naive Bayes\" method determines the class of a test document as the most likely class given the document's terms.\n",
    "    - The \"SVM (Linear Kernel)\" method determines the class of a test document by projecting it into a high-dimensional hyperspace and determining wich class corresponds to the \"hyperpoint\" it was projected into."
   ]
  },
  {
   "cell_type": "code",
   "execution_count": 40,
   "metadata": {
    "collapsed": false
   },
   "outputs": [],
   "source": [
    "webpage_models = (\n",
    "    (\"Dumb Classifier\", DummyClassifier(strategy=\"most_frequent\")),\n",
    "    (\"Vector Method\", KNeighborsClassifier(n_neighbors=1)),\n",
    "    (\"KNN (k=10)\", KNeighborsClassifier(n_neighbors=10)),\n",
    "    (\"Centroid\", NearestCentroid()),\n",
    "    (\"Naive Bayes\", MultinomialNB(fit_prior=False)),\n",
    "    (\"SVM (Linear Kernel)\", LinearSVC()),\n",
    ")"
   ]
  },
  {
   "cell_type": "code",
   "execution_count": 41,
   "metadata": {
    "collapsed": false
   },
   "outputs": [
    {
     "data": {
      "text/plain": [
       "[(u'Dumb Classifier', 0.49474645957058017),\n",
       " (u'Vector Method', 0.8332571950662403),\n",
       " (u'KNN (k=10)', 0.89904065783462772),\n",
       " (u'Centroid', 0.894015532206487),\n",
       " (u'Naive Bayes', 0.94243947007766105),\n",
       " (u'SVM (Linear Kernel)', 0.9730470534490635)]"
      ]
     },
     "execution_count": 41,
     "metadata": {},
     "output_type": "execute_result"
    }
   ],
   "source": [
    "r8_results = apply_models(webpage_models, r8_train_df, r8_test_df)\n",
    "r8_results"
   ]
  },
  {
   "cell_type": "code",
   "execution_count": 42,
   "metadata": {
    "collapsed": false
   },
   "outputs": [
    {
     "data": {
      "text/plain": [
       "[(u'Dumb Classifier', 0.42172897196261683),\n",
       " (u'Vector Method', 0.80685358255451711),\n",
       " (u'KNN (k=10)', 0.86526479750778817),\n",
       " (u'Centroid', 0.85708722741433019),\n",
       " (u'Naive Bayes', 0.84073208722741433),\n",
       " (u'SVM (Linear Kernel)', 0.94937694704049846)]"
      ]
     },
     "execution_count": 42,
     "metadata": {},
     "output_type": "execute_result"
    }
   ],
   "source": [
    "r52_results = apply_models(webpage_models, r52_train_df, r52_test_df)\n",
    "r52_results"
   ]
  },
  {
   "cell_type": "code",
   "execution_count": 43,
   "metadata": {
    "collapsed": false
   },
   "outputs": [
    {
     "data": {
      "text/plain": [
       "[(u'Dumb Classifier', 0.05300212539851222),\n",
       " (u'Vector Method', 0.72170563230605733),\n",
       " (u'KNN (k=10)', 0.74521785334750268),\n",
       " (u'Centroid', 0.75345377258235924),\n",
       " (u'Naive Bayes', 0.82213071200850163),\n",
       " (u'SVM (Linear Kernel)', 0.84710414452709881)]"
      ]
     },
     "execution_count": 43,
     "metadata": {},
     "output_type": "execute_result"
    }
   ],
   "source": [
    "ng20_results = apply_models(webpage_models, ng20_train_df, ng20_test_df)\n",
    "ng20_results"
   ]
  },
  {
   "cell_type": "code",
   "execution_count": 44,
   "metadata": {
    "collapsed": false
   },
   "outputs": [
    {
     "data": {
      "text/html": [
       "<div>\n",
       "<table border=\"1\" class=\"dataframe\">\n",
       "  <thead>\n",
       "    <tr style=\"text-align: right;\">\n",
       "      <th></th>\n",
       "      <th>r8</th>\n",
       "      <th>r52</th>\n",
       "      <th>ng20</th>\n",
       "    </tr>\n",
       "  </thead>\n",
       "  <tbody>\n",
       "    <tr>\n",
       "      <th>Dumb Classifier</th>\n",
       "      <td>0.494746</td>\n",
       "      <td>0.421729</td>\n",
       "      <td>0.053002</td>\n",
       "    </tr>\n",
       "    <tr>\n",
       "      <th>Vector Method</th>\n",
       "      <td>0.833257</td>\n",
       "      <td>0.806854</td>\n",
       "      <td>0.721706</td>\n",
       "    </tr>\n",
       "    <tr>\n",
       "      <th>KNN (k=10)</th>\n",
       "      <td>0.899041</td>\n",
       "      <td>0.865265</td>\n",
       "      <td>0.745218</td>\n",
       "    </tr>\n",
       "    <tr>\n",
       "      <th>Centroid</th>\n",
       "      <td>0.894016</td>\n",
       "      <td>0.857087</td>\n",
       "      <td>0.753454</td>\n",
       "    </tr>\n",
       "    <tr>\n",
       "      <th>Naive Bayes</th>\n",
       "      <td>0.942439</td>\n",
       "      <td>0.840732</td>\n",
       "      <td>0.822131</td>\n",
       "    </tr>\n",
       "    <tr>\n",
       "      <th>SVM (Linear Kernel)</th>\n",
       "      <td>0.973047</td>\n",
       "      <td>0.949377</td>\n",
       "      <td>0.847104</td>\n",
       "    </tr>\n",
       "  </tbody>\n",
       "</table>\n",
       "</div>"
      ],
      "text/plain": [
       "                           r8       r52      ng20\n",
       "Dumb Classifier      0.494746  0.421729  0.053002\n",
       "Vector Method        0.833257  0.806854  0.721706\n",
       "KNN (k=10)           0.899041  0.865265  0.745218\n",
       "Centroid             0.894016  0.857087  0.753454\n",
       "Naive Bayes          0.942439  0.840732  0.822131\n",
       "SVM (Linear Kernel)  0.973047  0.949377  0.847104"
      ]
     },
     "execution_count": 44,
     "metadata": {},
     "output_type": "execute_result"
    }
   ],
   "source": [
    "webpage_results_df = pd.DataFrame({\"r8\": [result[1] for result in r8_results],\n",
    "                                   \"r52\": [result[1] for result in r52_results],\n",
    "                                   \"ng20\": [result[1] for result in ng20_results]},\n",
    "                                  index=[model[0] for model in webpage_models])\n",
    "webpage_results_df[[\"r8\",\"r52\",\"ng20\"]] # match dataset order (columns) in webpage"
   ]
  },
  {
   "cell_type": "markdown",
   "metadata": {},
   "source": [
    "By analising the previous code, reading the description of the models used in the webpage and in sklearn, and looking at both the webpage results and the present work results syde by side, we can observe a few interesting things that led to the results not being the same in both tables."
   ]
  },
  {
   "cell_type": "markdown",
   "metadata": {},
   "source": [
    "<tr>\n",
    "<td> ![png](./fig-results-initial-webpage.png) </td>\n",
    "<td>  </td>\n",
    "<td> ![png](./fig-results-initial-present.png) </td>\n",
    "</tr>"
   ]
  },
  {
   "cell_type": "markdown",
   "metadata": {},
   "source": [
    "Actually, it's simpler to visualise if I plot the differences in Accuracy between the present results and the results in the webpage for each dataset and ML model."
   ]
  },
  {
   "cell_type": "code",
   "execution_count": 45,
   "metadata": {
    "collapsed": false
   },
   "outputs": [
    {
     "data": {
      "text/plain": [
       "<matplotlib.axes._subplots.AxesSubplot at 0x11af05ed0>"
      ]
     },
     "execution_count": 45,
     "metadata": {},
     "output_type": "execute_result"
    },
    {
     "data": {
      "image/png": "[encoded data removed]",
      "text/plain": [
       "<matplotlib.figure.Figure at 0x11af05750>"
      ]
     },
     "metadata": {},
     "output_type": "display_data"
    }
   ],
   "source": [
    "# Accuracy values copied from the table on the webpage by hand\n",
    "old_results = {\"r8\"  : [0.4947, 0.7889, 0.8524, 0.9356, 0.9607, 0.9698],\n",
    "               \"r52\" : [0.4217, 0.7687, 0.8322, 0.8717, 0.8692, 0.9377],\n",
    "               \"ng20\": [0.0530, 0.7240, 0.7593, 0.7885, 0.8103, 0.8284]}\n",
    "\n",
    "webpage_old_results_df = pd.DataFrame(old_results,\n",
    "                                      index=[model[0] for model in webpage_models])\n",
    "\n",
    "#print(webpage_results_df[[\"r8\",\"r52\",\"ng20\"]])\n",
    "#print(webpage_old_results_df[[\"r8\",\"r52\",\"ng20\"]])\n",
    "\n",
    "webpage_results_diffs_df = (webpage_results_df[[\"r8\",\"r52\",\"ng20\"]] - \n",
    "                            webpage_old_results_df[[\"r8\",\"r52\",\"ng20\"]])\n",
    "webpage_results_diffs_df[[\"r8\",\"r52\",\"ng20\"]].plot.barh(title=\"Accuracy (SKLearn - Webpage) per model and dataset\")"
   ]
  },
  {
   "cell_type": "markdown",
   "metadata": {},
   "source": [
    "By observing this plot we can see that there are some Accuracy differences between the results obtained now and the results that were in the webpage (the largest difference is less than 5%).  Most of the differences can be attributed to the different algorithms to calculate tfidf, but it is still worth noting that:\n",
    "\n",
    "- The \"Dumb Classifier\" has the same results for all datasets in both settings because it only uses the document's class (or label) for classification. (If this was not the case, something would be very wrong!)\n",
    "- The \"Centroid\" method has very different implementations in sklearn and my thesis, and the one in my thesis is consistently better for all datasets. (Maybe my way of calculating the centroids should be incorporated into sklearn.)\n",
    "- The new tfidf implementation affects results, but not always for the better.  It also seems to affect ng20 and r* datasets in different ways, because when one of them improves the other worsens and vice versa (except for Centroid and SVM).\n",
    "- The dataset that seems to be less affected by the new way to calculate tfidf is the ng20, where all Accuracy differences are less than 2% (except for Centroid).\n",
    "- Both r8 and r52 are affected in a similar way for each model.  This makes sense, because they were both derived from the same initial dataset, so they should have similar characteristics."
   ]
  },
  {
   "cell_type": "markdown",
   "metadata": {},
   "source": [
    "###  Use LSI (Latent Semantic Indexing) to improve results"
   ]
  },
  {
   "cell_type": "markdown",
   "metadata": {},
   "source": [
    "Part of my thesis work was using LSI to reduce the dimensionality of the datasets, while at the same time hoping to improve Accuracy of the results.\n",
    "\n",
    "At the time, I used LSI alone and combined with kNN, Centroid and SVM and observed that results improved in general, but not when combining LSI and SVM.  I will compare LSI with the vector method, because it applies the same model, but to different feature vectors.\n",
    "\n",
    "Now, I will reproduce part of that work and see if I obtain similar results using sklearn."
   ]
  },
  {
   "cell_type": "code",
   "execution_count": 46,
   "metadata": {
    "collapsed": true
   },
   "outputs": [],
   "source": [
    "lsi_models = ((\"Dumb Classifier\", DummyClassifier(strategy=\"most_frequent\")),\n",
    "              (\"LSI Method\", KNeighborsClassifier(n_neighbors=1)),\n",
    "              (\"KNN-LSI (k=10)\", KNeighborsClassifier(n_neighbors=10)),\n",
    "              (\"Centroid-LSI\", NearestCentroid()),\n",
    "              (\"SVM-LSI (Linear Kernel)\", LinearSVC()),\n",
    "             )\n",
    "# It does not make sense to use LSI with Bayesian models.\n",
    "# Dumb classifier should give exactely same results because it only considers \n",
    "# class information."
   ]
  },
  {
   "cell_type": "code",
   "execution_count": 47,
   "metadata": {
    "collapsed": false
   },
   "outputs": [
    {
     "data": {
      "text/plain": [
       "[(u'Dumb Classifier', 0.49474645957058017),\n",
       " (u'LSI Method', 0.9346733668341709),\n",
       " (u'KNN-LSI (k=10)', 0.94106898126998628),\n",
       " (u'Centroid-LSI', 0.89310187300137045),\n",
       " (u'SVM-LSI (Linear Kernel)', 0.96984924623115576)]"
      ]
     },
     "execution_count": 47,
     "metadata": {},
     "output_type": "execute_result"
    }
   ],
   "source": [
    "r8_results_lsi = apply_models(lsi_models, r8_train_df, r8_test_df, use_lsi=True)\n",
    "r8_results_lsi"
   ]
  },
  {
   "cell_type": "code",
   "execution_count": 48,
   "metadata": {
    "collapsed": false
   },
   "outputs": [
    {
     "data": {
      "text/plain": [
       "[(u'Dumb Classifier', 0.42172897196261683),\n",
       " (u'LSI Method', 0.88473520249221183),\n",
       " (u'KNN-LSI (k=10)', 0.87772585669781933),\n",
       " (u'Centroid-LSI', 0.82904984423676009),\n",
       " (u'SVM-LSI (Linear Kernel)', 0.9240654205607477)]"
      ]
     },
     "execution_count": 48,
     "metadata": {},
     "output_type": "execute_result"
    }
   ],
   "source": [
    "r52_results_lsi = apply_models(lsi_models, r52_train_df, r52_test_df, use_lsi=True)\n",
    "r52_results_lsi"
   ]
  },
  {
   "cell_type": "code",
   "execution_count": 49,
   "metadata": {
    "collapsed": false
   },
   "outputs": [
    {
     "data": {
      "text/plain": [
       "[(u'Dumb Classifier', 0.05300212539851222),\n",
       " (u'LSI Method', 0.62061636556854405),\n",
       " (u'KNN-LSI (k=10)', 0.63270456960680133),\n",
       " (u'Centroid-LSI', 0.70257704569606805),\n",
       " (u'SVM-LSI (Linear Kernel)', 0.79051540913921359)]"
      ]
     },
     "execution_count": 49,
     "metadata": {},
     "output_type": "execute_result"
    }
   ],
   "source": [
    "ng20_results_lsi = apply_models(lsi_models, ng20_train_df, ng20_test_df, use_lsi=True)\n",
    "ng20_results_lsi"
   ]
  },
  {
   "cell_type": "code",
   "execution_count": 50,
   "metadata": {
    "collapsed": false
   },
   "outputs": [
    {
     "data": {
      "text/html": [
       "<div>\n",
       "<table border=\"1\" class=\"dataframe\">\n",
       "  <thead>\n",
       "    <tr style=\"text-align: right;\">\n",
       "      <th></th>\n",
       "      <th>r8</th>\n",
       "      <th>r52</th>\n",
       "      <th>ng20</th>\n",
       "    </tr>\n",
       "  </thead>\n",
       "  <tbody>\n",
       "    <tr>\n",
       "      <th>Dumb Classifier</th>\n",
       "      <td>0.494746</td>\n",
       "      <td>0.421729</td>\n",
       "      <td>0.053002</td>\n",
       "    </tr>\n",
       "    <tr>\n",
       "      <th>LSI Method</th>\n",
       "      <td>0.934673</td>\n",
       "      <td>0.884735</td>\n",
       "      <td>0.620616</td>\n",
       "    </tr>\n",
       "    <tr>\n",
       "      <th>KNN-LSI (k=10)</th>\n",
       "      <td>0.941069</td>\n",
       "      <td>0.877726</td>\n",
       "      <td>0.632705</td>\n",
       "    </tr>\n",
       "    <tr>\n",
       "      <th>Centroid-LSI</th>\n",
       "      <td>0.893102</td>\n",
       "      <td>0.829050</td>\n",
       "      <td>0.702577</td>\n",
       "    </tr>\n",
       "    <tr>\n",
       "      <th>SVM-LSI (Linear Kernel)</th>\n",
       "      <td>0.969849</td>\n",
       "      <td>0.924065</td>\n",
       "      <td>0.790515</td>\n",
       "    </tr>\n",
       "  </tbody>\n",
       "</table>\n",
       "</div>"
      ],
      "text/plain": [
       "                               r8       r52      ng20\n",
       "Dumb Classifier          0.494746  0.421729  0.053002\n",
       "LSI Method               0.934673  0.884735  0.620616\n",
       "KNN-LSI (k=10)           0.941069  0.877726  0.632705\n",
       "Centroid-LSI             0.893102  0.829050  0.702577\n",
       "SVM-LSI (Linear Kernel)  0.969849  0.924065  0.790515"
      ]
     },
     "execution_count": 50,
     "metadata": {},
     "output_type": "execute_result"
    }
   ],
   "source": [
    "lsi_results_df = pd.DataFrame({\"r8\": [result[1] for result in r8_results_lsi],\n",
    "                               \"r52\": [result[1] for result in r52_results_lsi],\n",
    "                               \"ng20\": [result[1] for result in ng20_results_lsi]},\n",
    "                              index=[model[0] for model in lsi_models])\n",
    "lsi_results_df[[\"r8\",\"r52\",\"ng20\"]]"
   ]
  },
  {
   "cell_type": "code",
   "execution_count": 51,
   "metadata": {
    "collapsed": false
   },
   "outputs": [
    {
     "data": {
      "text/html": [
       "<div>\n",
       "<table border=\"1\" class=\"dataframe\">\n",
       "  <thead>\n",
       "    <tr style=\"text-align: right;\">\n",
       "      <th></th>\n",
       "      <th>r8</th>\n",
       "      <th>r52</th>\n",
       "      <th>ng20</th>\n",
       "    </tr>\n",
       "  </thead>\n",
       "  <tbody>\n",
       "    <tr>\n",
       "      <th>Dumb Classifier</th>\n",
       "      <td>0.494746</td>\n",
       "      <td>0.421729</td>\n",
       "      <td>0.053002</td>\n",
       "    </tr>\n",
       "    <tr>\n",
       "      <th>Vector Method</th>\n",
       "      <td>0.833257</td>\n",
       "      <td>0.806854</td>\n",
       "      <td>0.721706</td>\n",
       "    </tr>\n",
       "    <tr>\n",
       "      <th>KNN (k=10)</th>\n",
       "      <td>0.899041</td>\n",
       "      <td>0.865265</td>\n",
       "      <td>0.745218</td>\n",
       "    </tr>\n",
       "    <tr>\n",
       "      <th>Centroid</th>\n",
       "      <td>0.894016</td>\n",
       "      <td>0.857087</td>\n",
       "      <td>0.753454</td>\n",
       "    </tr>\n",
       "    <tr>\n",
       "      <th>Naive Bayes</th>\n",
       "      <td>0.942439</td>\n",
       "      <td>0.840732</td>\n",
       "      <td>0.822131</td>\n",
       "    </tr>\n",
       "    <tr>\n",
       "      <th>SVM (Linear Kernel)</th>\n",
       "      <td>0.973047</td>\n",
       "      <td>0.949377</td>\n",
       "      <td>0.847104</td>\n",
       "    </tr>\n",
       "  </tbody>\n",
       "</table>\n",
       "</div>"
      ],
      "text/plain": [
       "                           r8       r52      ng20\n",
       "Dumb Classifier      0.494746  0.421729  0.053002\n",
       "Vector Method        0.833257  0.806854  0.721706\n",
       "KNN (k=10)           0.899041  0.865265  0.745218\n",
       "Centroid             0.894016  0.857087  0.753454\n",
       "Naive Bayes          0.942439  0.840732  0.822131\n",
       "SVM (Linear Kernel)  0.973047  0.949377  0.847104"
      ]
     },
     "execution_count": 51,
     "metadata": {},
     "output_type": "execute_result"
    }
   ],
   "source": [
    "webpage_results_df[[\"r8\",\"r52\",\"ng20\"]]"
   ]
  },
  {
   "cell_type": "code",
   "execution_count": 52,
   "metadata": {
    "collapsed": false,
    "scrolled": true
   },
   "outputs": [
    {
     "data": {
      "text/plain": [
       "<matplotlib.axes._subplots.AxesSubplot at 0x11a804d90>"
      ]
     },
     "execution_count": 52,
     "metadata": {},
     "output_type": "execute_result"
    },
    {
     "data": {
      "image/png": "[encoded data removed]",
      "text/plain": [
       "<matplotlib.figure.Figure at 0x123bb6c10>"
      ]
     },
     "metadata": {},
     "output_type": "display_data"
    }
   ],
   "source": [
    "# including Dumb Classifier just to check that it does not change\n",
    "lsi_models_correspondence = ((\"Dumb Classifier\", \"Dumb Classifier\"),\n",
    "                             (\"LSI Method\", \"Vector Method\"),\n",
    "                             (\"KNN-LSI (k=10)\", \"KNN (k=10)\"),\n",
    "                             (\"Centroid-LSI\", \"Centroid\"),\n",
    "                             (\"SVM-LSI (Linear Kernel)\", \"SVM (Linear Kernel)\"),\n",
    "                            )\n",
    "\n",
    "results = []\n",
    "for (name1, name2) in lsi_models_correspondence:\n",
    "    results.append(lsi_results_df.loc[name1][[\"r8\",\"r52\",\"ng20\"]] - \n",
    "                   webpage_results_df.loc[name2][[\"r8\",\"r52\",\"ng20\"]])\n",
    "\n",
    "lsi_results_diffs_df = pd.DataFrame(results,\n",
    "                                    index=[model[0]+\" vs \"+model[1] for \n",
    "                                           model in lsi_models_correspondence])\n",
    "\n",
    "lsi_results_diffs_df[[\"r8\",\"r52\",\"ng20\"]].plot.barh(title=\"Accuracy (SKLearn - Webpage) per model and dataset\")"
   ]
  },
  {
   "cell_type": "markdown",
   "metadata": {},
   "source": [
    "We can see that using LSI to reduce the dimensionality of the dataset improves results for the r* datasets, but not for ng20, when using \"simple\" ML models like Vector or kNN.  Also, models that already greatly change the initial dataset (SVM by changing dimensions; Centroid by using a single vector to represent an entire class) get worse results when combined with a further dimensionality reduction."
   ]
  },
  {
   "cell_type": "markdown",
   "metadata": {},
   "source": [
    "###  Use more ML models"
   ]
  },
  {
   "cell_type": "markdown",
   "metadata": {},
   "source": [
    "After reproducing some of the results from my thesis, I decided to apply other ML models that I had not used at the time, to see if I could improve results using some of the models available in sklearn."
   ]
  },
  {
   "cell_type": "code",
   "execution_count": 53,
   "metadata": {
    "collapsed": true
   },
   "outputs": [],
   "source": [
    "from sklearn.feature_extraction.text import CountVectorizer\n",
    "from sklearn.feature_extraction.text import TfidfVectorizer\n",
    "\n",
    "from sklearn.dummy import DummyClassifier\n",
    "from sklearn.tree import DecisionTreeClassifier\n",
    "from sklearn.ensemble import RandomForestClassifier\n",
    "from sklearn.ensemble import ExtraTreesClassifier\n",
    "from sklearn.ensemble import AdaBoostClassifier\n",
    "from sklearn.ensemble import VotingClassifier\n",
    "from sklearn.naive_bayes import MultinomialNB\n",
    "from sklearn.neighbors import KNeighborsClassifier\n",
    "from sklearn.neighbors import NearestCentroid\n",
    "from sklearn.svm import LinearSVC\n",
    "\n",
    "from sklearn import metrics\n",
    "from sklearn.metrics import confusion_matrix, accuracy_score"
   ]
  },
  {
   "cell_type": "code",
   "execution_count": 54,
   "metadata": {
    "collapsed": false
   },
   "outputs": [],
   "source": [
    "many_models = ((\"Dumb Classifier\", DummyClassifier(strategy=\"most_frequent\")),\n",
    "                (\"KNN\", KNeighborsClassifier()),\n",
    "                (\"Centroid\", NearestCentroid()),\n",
    "                (\"Naive Bayes\", MultinomialNB()),\n",
    "                (\"SVM (Linear)\", LinearSVC()),\n",
    "                ## \"new\" models from here\n",
    "                (\"Decision Tree\", DecisionTreeClassifier()),\n",
    "                (\"Random Forest\", RandomForestClassifier()),\n",
    "                (\"Extra Trees\", ExtraTreesClassifier()),\n",
    "                (\"Ada Boost\", AdaBoostClassifier()),\n",
    "                (\"Ensemble1\", VotingClassifier(estimators=[('KNN', KNeighborsClassifier()), \n",
    "                                                          ('Centr', NearestCentroid()), \n",
    "                                                          ('DT', DecisionTreeClassifier())])),\n",
    "                (\"Ensemble2\", VotingClassifier(estimators=[('KNN', KNeighborsClassifier()), \n",
    "                                                          ('Centr', NearestCentroid()), \n",
    "                                                          ('DT', DecisionTreeClassifier()),\n",
    "                                                          (\"RF\", RandomForestClassifier()),\n",
    "                                                          (\"SVC\", LinearSVC())])),\n",
    "                 )"
   ]
  },
  {
   "cell_type": "code",
   "execution_count": 55,
   "metadata": {
    "collapsed": false
   },
   "outputs": [
    {
     "data": {
      "text/plain": [
       "[(u'Dumb Classifier', 0.49474645957058017),\n",
       " (u'KNN', 0.86980356327089992),\n",
       " (u'Centroid', 0.894015532206487),\n",
       " (u'Naive Bayes', 0.85701233439926905),\n",
       " (u'SVM (Linear)', 0.9730470534490635),\n",
       " (u'Decision Tree', 0.91731384193695753),\n",
       " (u'Random Forest', 0.92142530835998171),\n",
       " (u'Extra Trees', 0.92325262677021469),\n",
       " (u'Ada Boost', 0.84285061671996342),\n",
       " (u'Ensemble1', 0.94015532206486985),\n",
       " (u'Ensemble2', 0.96116948378254907)]"
      ]
     },
     "execution_count": 55,
     "metadata": {},
     "output_type": "execute_result"
    }
   ],
   "source": [
    "r8_results_many = apply_models(many_models, r8_train_df, r8_test_df)\n",
    "r8_results_many"
   ]
  },
  {
   "cell_type": "code",
   "execution_count": 56,
   "metadata": {
    "collapsed": false
   },
   "outputs": [
    {
     "data": {
      "text/plain": [
       "[(u'Dumb Classifier', 0.42172897196261683),\n",
       " (u'KNN', 0.83917445482866049),\n",
       " (u'Centroid', 0.85708722741433019),\n",
       " (u'Naive Bayes', 0.73247663551401865),\n",
       " (u'SVM (Linear)', 0.94937694704049846),\n",
       " (u'Decision Tree', 0.84423676012461057),\n",
       " (u'Random Forest', 0.83995327102803741),\n",
       " (u'Extra Trees', 0.8360591900311527),\n",
       " (u'Ada Boost', 0.64213395638629278),\n",
       " (u'Ensemble1', 0.90342679127725856),\n",
       " (u'Ensemble2', 0.92679127725856703)]"
      ]
     },
     "execution_count": 56,
     "metadata": {},
     "output_type": "execute_result"
    }
   ],
   "source": [
    "r52_results_many = apply_models(many_models, r52_train_df, r52_test_df)\n",
    "r52_results_many"
   ]
  },
  {
   "cell_type": "code",
   "execution_count": 57,
   "metadata": {
    "collapsed": false
   },
   "outputs": [
    {
     "data": {
      "text/plain": [
       "[(u'Dumb Classifier', 0.05300212539851222),\n",
       " (u'KNN', 0.73352816153028688),\n",
       " (u'Centroid', 0.75345377258235924),\n",
       " (u'Naive Bayes', 0.81615302869287987),\n",
       " (u'SVM (Linear)', 0.84710414452709881),\n",
       " (u'Decision Tree', 0.57332624867162596),\n",
       " (u'Random Forest', 0.6538257173219979),\n",
       " (u'Extra Trees', 0.66219447396386821),\n",
       " (u'Ada Boost', 0.49601487778958553),\n",
       " (u'Ensemble1', 0.76434643995749207),\n",
       " (u'Ensemble2', 0.8202709883103082)]"
      ]
     },
     "execution_count": 57,
     "metadata": {},
     "output_type": "execute_result"
    }
   ],
   "source": [
    "ng20_results_many = apply_models(many_models, ng20_train_df, ng20_test_df)\n",
    "ng20_results_many"
   ]
  },
  {
   "cell_type": "markdown",
   "metadata": {},
   "source": [
    "How do the models compare to the ones before, in terms of Accuracy?"
   ]
  },
  {
   "cell_type": "code",
   "execution_count": 58,
   "metadata": {
    "collapsed": false
   },
   "outputs": [
    {
     "data": {
      "text/plain": [
       "<matplotlib.axes._subplots.AxesSubplot at 0x12147e650>"
      ]
     },
     "execution_count": 58,
     "metadata": {},
     "output_type": "execute_result"
    },
    {
     "data": {
      "image/png": "[encoded data removed]",
      "text/plain": [
       "<matplotlib.figure.Figure at 0x1172c5f90>"
      ]
     },
     "metadata": {},
     "output_type": "display_data"
    }
   ],
   "source": [
    "many_results_df = pd.DataFrame({\"r8\": [result[1] for result in r8_results_many],\n",
    "                                \"r52\": [result[1] for result in r52_results_many],\n",
    "                                \"ng20\": [result[1] for result in ng20_results_many]},\n",
    "                               index=[model[0] for model in many_models])\n",
    "many_results_df[[\"r8\",\"r52\",\"ng20\"]].plot.barh(title=\"Accuracy per model and dataset\")"
   ]
  },
  {
   "cell_type": "markdown",
   "metadata": {},
   "source": [
    "The idea behind applying new models to the same datasets was to see if it was possible to improve results.  Looking at the previous plot, we can see that\n",
    "\n",
    "- SVM is still the best model for all datasets.\n",
    "- The Dumb classifier is still the worst model (included as a baseline).\n",
    "- AdaBoost and ExtraTrees don't always improve results when compared to DecisionTree.\n",
    "- Using Ensembles does not improve results a lot in this case.  SVM already behave very well, so even an Ensemble including them does not improve results enough to be interesting in this case."
   ]
  },
  {
   "cell_type": "markdown",
   "metadata": {},
   "source": [
    "###  Optimise parameters for some ML models (using GridSearchCV)"
   ]
  },
  {
   "cell_type": "markdown",
   "metadata": {},
   "source": [
    "In the previous section, all models were used using the default values for their parameters.  Now, I will use GridSearchCV to see if those results can be improved by using different parameters.  I will do so only for the most promising models, due to time constraints."
   ]
  },
  {
   "cell_type": "code",
   "execution_count": 59,
   "metadata": {
    "collapsed": true
   },
   "outputs": [],
   "source": [
    "from sklearn.feature_extraction.text import CountVectorizer\n",
    "from sklearn.feature_extraction.text import TfidfVectorizer\n",
    "\n",
    "from sklearn.dummy import DummyClassifier\n",
    "from sklearn.tree import DecisionTreeClassifier\n",
    "from sklearn.ensemble import RandomForestClassifier\n",
    "from sklearn.ensemble import ExtraTreesClassifier\n",
    "from sklearn.ensemble import AdaBoostClassifier\n",
    "from sklearn.ensemble import VotingClassifier\n",
    "from sklearn.naive_bayes import MultinomialNB\n",
    "from sklearn.neighbors import KNeighborsClassifier\n",
    "from sklearn.neighbors import NearestCentroid\n",
    "from sklearn.svm import LinearSVC\n",
    "from sklearn.model_selection import GridSearchCV\n",
    "\n",
    "from sklearn import metrics\n",
    "from sklearn.metrics import confusion_matrix, accuracy_score"
   ]
  },
  {
   "cell_type": "code",
   "execution_count": 60,
   "metadata": {
    "collapsed": true
   },
   "outputs": [],
   "source": [
    "optimisable_models = (\n",
    "    (\"KNN\", KNeighborsClassifier(), \n",
    "     {\"n_neighbors\" : [1, 5, 10, 20, 30, 40],\n",
    "      \"weights\" : [\"uniform\", \"distance\"]}),\n",
    "    (\"Naive Bayes\", MultinomialNB(),\n",
    "     {\"alpha\" : [0.0, 0.1, 0.25, 0.5, 0.75, 1.0, 2.0], \n",
    "      \"fit_prior\" : [True, False]}),\n",
    "    (\"SVM (Linear)\", LinearSVC(), \n",
    "     [{\"C\" : [0.5, 1.0, 2.0, 4.0], \"penalty\" : [\"l2\"]},\n",
    "      {\"C\" : [0.5, 1.0, 2.0, 4.0], \"penalty\" : [\"l1\"], \"dual\" : [False]}]),\n",
    "    (\"Decision Tree\", DecisionTreeClassifier(random_state=42),\n",
    "     {\"criterion\" : [\"gini\", \"entropy\"],\n",
    "      \"max_features\" : [None, 10, \"sqrt\"], \n",
    "      \"min_samples_split\" : [1, 2, 5, 10], \n",
    "      \"random_state\" : [42]}),\n",
    "    (\"Random Forest\", RandomForestClassifier(random_state=42),\n",
    "     {\"n_estimators\" : [10, 30, 50, 70], \n",
    "      \"criterion\" : [\"gini\", \"entropy\"], \n",
    "      \"random_state\" : [42]}),\n",
    ")"
   ]
  },
  {
   "cell_type": "code",
   "execution_count": 61,
   "metadata": {
    "collapsed": true
   },
   "outputs": [],
   "source": [
    "def apply_grid_models(models, df_train, df_test):\n",
    "    \"\"\"Returns two lists: \n",
    "    - a list of (model_name, accuracy_bare, accuracy_opt, best_params) \n",
    "    that results from applying each model to the train and test \n",
    "    dataframes, before and after optimisation using GridSearchCV.\n",
    "    - a list of (model_name, model_with_best_params) to be used in the \n",
    "    next section, to time and compare results from the optimised models.\"\"\"\n",
    "    X_train, y_train, X_test, y_test = to_tfidf(df_train, df_test)\n",
    "\n",
    "    results = []\n",
    "    optimised_models = []\n",
    "    for (name, model, params) in models:\n",
    "        bare_model_score = apply_model(model, X_train, y_train, X_test, y_test)\n",
    "\n",
    "        gcv = GridSearchCV(model, params)\n",
    "        gcv.fit(X_train, y_train)\n",
    "        optimized_score = apply_model(gcv.best_estimator_, X_train, y_train, X_test, y_test)\n",
    "        results.append((name, bare_model_score, optimized_score, gcv.best_params_))\n",
    "        \n",
    "        if optimized_score > bare_model_score:\n",
    "            optimised_models.append((name, gcv.best_estimator_))\n",
    "        else:\n",
    "            optimised_models.append((name, model))\n",
    "    return results, optimised_models"
   ]
  },
  {
   "cell_type": "code",
   "execution_count": 62,
   "metadata": {
    "collapsed": false
   },
   "outputs": [
    {
     "data": {
      "text/plain": [
       "[(u'KNN',\n",
       "  0.86980356327089992,\n",
       "  0.89904065783462772,\n",
       "  {u'n_neighbors': 10, u'weights': u'uniform'}),\n",
       " (u'Naive Bayes',\n",
       "  0.85701233439926905,\n",
       "  0.95705801735952489,\n",
       "  {u'alpha': 0.25, u'fit_prior': False}),\n",
       " (u'SVM (Linear)',\n",
       "  0.9730470534490635,\n",
       "  0.97396071265417994,\n",
       "  {u'C': 2.0, u'penalty': u'l2'}),\n",
       " (u'Decision Tree',\n",
       "  0.91411603471904979,\n",
       "  0.91046139789858382,\n",
       "  {u'criterion': u'gini',\n",
       "   u'max_features': None,\n",
       "   u'min_samples_split': 5,\n",
       "   u'random_state': 42}),\n",
       " (u'Random Forest',\n",
       "  0.9031521242576519,\n",
       "  0.93969849246231152,\n",
       "  {u'criterion': u'gini', u'n_estimators': 70, u'random_state': 42})]"
      ]
     },
     "execution_count": 62,
     "metadata": {},
     "output_type": "execute_result"
    }
   ],
   "source": [
    "r8_results_grid, r8_optimised_models  = \\\n",
    "    apply_grid_models(optimisable_models, r8_train_df, r8_test_df)\n",
    "r8_results_grid"
   ]
  },
  {
   "cell_type": "code",
   "execution_count": 63,
   "metadata": {
    "collapsed": false
   },
   "outputs": [
    {
     "name": "stderr",
     "output_type": "stream",
     "text": [
      "//anaconda/lib/python2.7/site-packages/sklearn/model_selection/_split.py:579: Warning: The least populated class in y has only 1 members, which is too few. The minimum number of groups for any class cannot be less than n_splits=3.\n",
      "  % (min_groups, self.n_splits)), Warning)\n"
     ]
    },
    {
     "data": {
      "text/plain": [
       "[(u'KNN',\n",
       "  0.83917445482866049,\n",
       "  0.86526479750778817,\n",
       "  {u'n_neighbors': 10, u'weights': u'uniform'}),\n",
       " (u'Naive Bayes',\n",
       "  0.73247663551401865,\n",
       "  0.88707165109034269,\n",
       "  {u'alpha': 0.1, u'fit_prior': False}),\n",
       " (u'SVM (Linear)',\n",
       "  0.94937694704049846,\n",
       "  0.95327102803738317,\n",
       "  {u'C': 4.0, u'penalty': u'l2'}),\n",
       " (u'Decision Tree',\n",
       "  0.84735202492211836,\n",
       "  0.84540498442367606,\n",
       "  {u'criterion': u'gini',\n",
       "   u'max_features': None,\n",
       "   u'min_samples_split': 5,\n",
       "   u'random_state': 42}),\n",
       " (u'Random Forest',\n",
       "  0.82671339563862933,\n",
       "  0.86915887850467288,\n",
       "  {u'criterion': u'gini', u'n_estimators': 70, u'random_state': 42})]"
      ]
     },
     "execution_count": 63,
     "metadata": {},
     "output_type": "execute_result"
    }
   ],
   "source": [
    "r52_results_grid, r52_optimised_models  = \\\n",
    "    apply_grid_models(optimisable_models, r52_train_df, r52_test_df)\n",
    "r52_results_grid"
   ]
  },
  {
   "cell_type": "code",
   "execution_count": 64,
   "metadata": {
    "collapsed": false
   },
   "outputs": [
    {
     "data": {
      "text/plain": [
       "[(u'KNN',\n",
       "  0.73352816153028688,\n",
       "  0.75571200850159403,\n",
       "  {u'n_neighbors': 20, u'weights': u'distance'}),\n",
       " (u'Naive Bayes',\n",
       "  0.81615302869287987,\n",
       "  0.8387353878852285,\n",
       "  {u'alpha': 0.1, u'fit_prior': False}),\n",
       " (u'SVM (Linear)',\n",
       "  0.84710414452709881,\n",
       "  0.84710414452709881,\n",
       "  {u'C': 1.0, u'penalty': u'l2'}),\n",
       " (u'Decision Tree',\n",
       "  0.57943676939426147,\n",
       "  0.57943676939426147,\n",
       "  {u'criterion': u'gini',\n",
       "   u'max_features': None,\n",
       "   u'min_samples_split': 1,\n",
       "   u'random_state': 42}),\n",
       " (u'Random Forest',\n",
       "  0.65847502656748136,\n",
       "  0.76833156216790643,\n",
       "  {u'criterion': u'gini', u'n_estimators': 70, u'random_state': 42})]"
      ]
     },
     "execution_count": 64,
     "metadata": {},
     "output_type": "execute_result"
    }
   ],
   "source": [
    "ng20_results_grid, ng20_optimised_models  = \\\n",
    "    apply_grid_models(optimisable_models, ng20_train_df, ng20_test_df)\n",
    "ng20_results_grid"
   ]
  },
  {
   "cell_type": "markdown",
   "metadata": {},
   "source": [
    "Does optimising parameters actually improve Accuracy?"
   ]
  },
  {
   "cell_type": "code",
   "execution_count": 65,
   "metadata": {
    "collapsed": false
   },
   "outputs": [
    {
     "data": {
      "text/plain": [
       "<matplotlib.axes._subplots.AxesSubplot at 0x121496050>"
      ]
     },
     "execution_count": 65,
     "metadata": {},
     "output_type": "execute_result"
    },
    {
     "data": {
      "image/png": "[encoded data removed]",
      "text/plain": [
       "<matplotlib.figure.Figure at 0x11b678290>"
      ]
     },
     "metadata": {},
     "output_type": "display_data"
    }
   ],
   "source": [
    "grid_results_df = pd.DataFrame({\"r8\": [result[2]-result[1] for result in r8_results_grid],\n",
    "                                \"r52\": [result[2]-result[1] for result in r52_results_grid],\n",
    "                                \"ng20\": [result[2]-result[1] for result in ng20_results_grid]},\n",
    "                               index=[model[0] for model in optimisable_models])\n",
    "grid_results_df[[\"r8\",\"r52\",\"ng20\"]].plot.barh(title=\"Accuracy (optimised - default) per model and dataset\")"
   ]
  },
  {
   "cell_type": "markdown",
   "metadata": {},
   "source": [
    "From the previous plot, we can see that using GridSearchCV it was possible to improve results for some of the models.  There is no guarantee that the parameters chosen by GridSearchCV are the absolute best ones, but at least it's reassuring to see that results did not get worse for the parameter combinations that were tested.\n",
    "\n",
    "- Results for DesisionTree and SVM changed very little, which means that default values for the parameters already work as well as possible with these datasets.\n",
    "- I was impressed to see how much results improved for NaiveBayes by setting `fit_prior` to `False`.  This means that using a uniform prior for class probabilities improves results, specially when the datasets are extremely skewed (like `r8` and `r52`).\n",
    "- It was interesting (although not unexpected) to see that increasing the number of estimators improves results for RandomForest (but also increases the time it takes to run).\n",
    "- Increasing the number of neighbours in KNN also improves results, but different datasets have different optimal numbers of neighbours."
   ]
  },
  {
   "cell_type": "markdown",
   "metadata": {},
   "source": [
    "###  Time ML models (with best parameters) and compare results"
   ]
  },
  {
   "cell_type": "markdown",
   "metadata": {},
   "source": [
    "Finally, I want to look at absolute values for Accuracy, and compare how well each model performs with each dataset (using only the best parameters for each dataset).  I also want to consider how long the models take to train and test, because in a real setting it may be better to have a slightly worse model, it is much faster.\n",
    "\n",
    "As a side note, I should add that I timed one train and one test per model and dataset, and this is not ideal.  Many things can influence how long a model takes to train that do not depend on the model (Did the system perform a garbage collection? Are there other threads computing for CPU?), so to get more trustworthy times I should time several runs and get average times for them."
   ]
  },
  {
   "cell_type": "code",
   "execution_count": 66,
   "metadata": {
    "collapsed": true
   },
   "outputs": [],
   "source": [
    "import time\n",
    "\n",
    "def apply_and_time_models(models, df_train, df_test):\n",
    "    \"\"\"Returns a list of (model_name, accuracy, time_train, time_test)\n",
    "    that results from applying each model to the train and test dataframes.\"\"\"\n",
    "    X_train, y_train, X_test, y_test = to_tfidf(df_train, df_test)\n",
    "\n",
    "    result = []\n",
    "    for (name, model) in models:\n",
    "        t0 = time.time()\n",
    "        model.fit(X_train, y_train)\n",
    "        time_train = (time.time() - t0)\n",
    "        \n",
    "        t1 = time.time()\n",
    "        y_pred = model.predict(X_test)\n",
    "        time_test = (time.time() - t1)\n",
    "\n",
    "        score = accuracy_score(y_test, y_pred)\n",
    "        result.append((name, score, time_train, time_test))\n",
    "    return result    "
   ]
  },
  {
   "cell_type": "code",
   "execution_count": 67,
   "metadata": {
    "collapsed": false
   },
   "outputs": [],
   "source": [
    "# Variables r8_optimised_models, r52_optimised_models, ng20_optimised_models\n",
    "# from previous section contain optimised parameters and models for each dataset.\n",
    "# print(r8_optimised_models)\n",
    "# print(r52_optimised_models)\n",
    "# print(ng20_optimised_models)"
   ]
  },
  {
   "cell_type": "markdown",
   "metadata": {},
   "source": [
    "Apply the optimised models to each dataset."
   ]
  },
  {
   "cell_type": "code",
   "execution_count": 68,
   "metadata": {
    "collapsed": false
   },
   "outputs": [
    {
     "data": {
      "text/plain": [
       "[(u'KNN', 0.89904065783462772, 0.007704973220825195, 1.0500991344451904),\n",
       " (u'Naive Bayes',\n",
       "  0.95705801735952489,\n",
       "  0.029896974563598633,\n",
       "  0.0021300315856933594),\n",
       " (u'SVM (Linear)',\n",
       "  0.97396071265417994,\n",
       "  0.3418431282043457,\n",
       "  0.002039194107055664),\n",
       " (u'Decision Tree',\n",
       "  0.91411603471904979,\n",
       "  1.4033761024475098,\n",
       "  0.0019969940185546875),\n",
       " (u'Random Forest',\n",
       "  0.93969849246231152,\n",
       "  3.988234043121338,\n",
       "  0.14189410209655762)]"
      ]
     },
     "execution_count": 68,
     "metadata": {},
     "output_type": "execute_result"
    }
   ],
   "source": [
    "r8_results_timed = apply_and_time_models(r8_optimised_models, r8_train_df, r8_test_df)\n",
    "r8_results_timed"
   ]
  },
  {
   "cell_type": "code",
   "execution_count": 69,
   "metadata": {
    "collapsed": false
   },
   "outputs": [
    {
     "data": {
      "text/plain": [
       "[(u'KNN', 0.86526479750778817, 0.013735055923461914, 1.4294040203094482),\n",
       " (u'Naive Bayes',\n",
       "  0.88707165109034269,\n",
       "  0.13129591941833496,\n",
       "  0.023643016815185547),\n",
       " (u'SVM (Linear)',\n",
       "  0.95327102803738317,\n",
       "  2.2168028354644775,\n",
       "  0.015980958938598633),\n",
       " (u'Decision Tree',\n",
       "  0.84735202492211836,\n",
       "  2.8843748569488525,\n",
       "  0.02333688735961914),\n",
       " (u'Random Forest',\n",
       "  0.86915887850467288,\n",
       "  6.906268119812012,\n",
       "  0.28728199005126953)]"
      ]
     },
     "execution_count": 69,
     "metadata": {},
     "output_type": "execute_result"
    }
   ],
   "source": [
    "r52_results_timed = apply_and_time_models(r52_optimised_models, r52_train_df, r52_test_df)\n",
    "r52_results_timed"
   ]
  },
  {
   "cell_type": "code",
   "execution_count": 70,
   "metadata": {
    "collapsed": false
   },
   "outputs": [
    {
     "data": {
      "text/plain": [
       "[(u'KNN', 0.75571200850159403, 0.02213597297668457, 8.746530055999756),\n",
       " (u'Naive Bayes',\n",
       "  0.8387353878852285,\n",
       "  0.2265620231628418,\n",
       "  0.061360836029052734),\n",
       " (u'SVM (Linear)', 0.84710414452709881, 3.79681396484375, 0.0403599739074707),\n",
       " (u'Decision Tree',\n",
       "  0.57943676939426147,\n",
       "  21.402995109558105,\n",
       "  0.01783609390258789),\n",
       " (u'Random Forest',\n",
       "  0.76833156216790643,\n",
       "  40.69181704521179,\n",
       "  1.0634288787841797)]"
      ]
     },
     "execution_count": 70,
     "metadata": {},
     "output_type": "execute_result"
    }
   ],
   "source": [
    "ng20_results_timed = apply_and_time_models(ng20_optimised_models, ng20_train_df, ng20_test_df)\n",
    "ng20_results_timed"
   ]
  },
  {
   "cell_type": "markdown",
   "metadata": {},
   "source": [
    "How do models compare in Accuracy?"
   ]
  },
  {
   "cell_type": "code",
   "execution_count": 71,
   "metadata": {
    "collapsed": false
   },
   "outputs": [
    {
     "data": {
      "text/plain": [
       "<matplotlib.axes._subplots.AxesSubplot at 0x121465fd0>"
      ]
     },
     "execution_count": 71,
     "metadata": {},
     "output_type": "execute_result"
    },
    {
     "data": {
      "image/png": "[encoded data removed]",
      "text/plain": [
       "<matplotlib.figure.Figure at 0x11b687fd0>"
      ]
     },
     "metadata": {},
     "output_type": "display_data"
    }
   ],
   "source": [
    "timed_results_acc_df = pd.DataFrame({\"r8\": [x[1] for x in r8_results_timed],\n",
    "                                \"r52\": [x[1] for x in r52_results_timed],\n",
    "                                \"ng20\": [x[1] for x in ng20_results_timed]},\n",
    "                               index=[model[0] for model in r8_optimised_models])\n",
    "timed_results_acc_df[[\"r8\",\"r52\",\"ng20\"]].plot.barh(\n",
    "    figsize=(8, 5),                                                \n",
    "    title=\"Accuracy per model and dataset\")"
   ]
  },
  {
   "cell_type": "markdown",
   "metadata": {},
   "source": [
    "We can see that most optimised models perform well enough for these datasets, in particular for r8 and r52.\n",
    "\n",
    "The best model overal continues to be SVM using a linear kernel."
   ]
  },
  {
   "cell_type": "markdown",
   "metadata": {},
   "source": [
    "Is there a dataset that is \"harder\" than others?"
   ]
  },
  {
   "cell_type": "code",
   "execution_count": 72,
   "metadata": {
    "collapsed": false
   },
   "outputs": [
    {
     "data": {
      "text/plain": [
       "<matplotlib.axes._subplots.AxesSubplot at 0x12f972a90>"
      ]
     },
     "execution_count": 72,
     "metadata": {},
     "output_type": "execute_result"
    },
    {
     "data": {
      "image/png": "[encoded data removed]",
      "text/plain": [
       "<matplotlib.figure.Figure at 0x1163cb050>"
      ]
     },
     "metadata": {},
     "output_type": "display_data"
    }
   ],
   "source": [
    "timed_results_acc_df.transpose().plot.barh(figsize=(8, 5), \n",
    "                                       title=\"Accuracy per model and dataset\")"
   ]
  },
  {
   "cell_type": "markdown",
   "metadata": {},
   "source": [
    "Looking at the length of these bars, we can see that ng20 is the \"hardest\" dataset, followed by r52 and finally r8."
   ]
  },
  {
   "cell_type": "markdown",
   "metadata": {},
   "source": [
    "How do these models compare in terms of how long they take to train and test?\n",
    "\n",
    "(Datasets have different sizes, so agglomerate by them.)"
   ]
  },
  {
   "cell_type": "code",
   "execution_count": 73,
   "metadata": {
    "collapsed": false
   },
   "outputs": [
    {
     "data": {
      "text/plain": [
       "<matplotlib.axes._subplots.AxesSubplot at 0x128376710>"
      ]
     },
     "execution_count": 73,
     "metadata": {},
     "output_type": "execute_result"
    },
    {
     "data": {
      "image/png": "[encoded data removed]",
      "text/plain": [
       "<matplotlib.figure.Figure at 0x130a815d0>"
      ]
     },
     "metadata": {},
     "output_type": "display_data"
    }
   ],
   "source": [
    "timed_results_train_df = pd.DataFrame({\"r8\": [x[2] for x in r8_results_timed],\n",
    "                                \"r52\": [x[2] for x in r52_results_timed],\n",
    "                                \"ng20\": [x[2] for x in ng20_results_timed]},\n",
    "                               index=[model[0] for model in r8_optimised_models])\n",
    "timed_results_train_df.transpose().plot.barh(figsize=(8, 5), \n",
    "                                       title=\"Training time per model and dataset\")"
   ]
  },
  {
   "cell_type": "code",
   "execution_count": 74,
   "metadata": {
    "collapsed": false
   },
   "outputs": [
    {
     "data": {
      "text/plain": [
       "<matplotlib.axes._subplots.AxesSubplot at 0x11c655550>"
      ]
     },
     "execution_count": 74,
     "metadata": {},
     "output_type": "execute_result"
    },
    {
     "data": {
      "image/png": "[encoded data removed]",
      "text/plain": [
       "<matplotlib.figure.Figure at 0x1158bde10>"
      ]
     },
     "metadata": {},
     "output_type": "display_data"
    }
   ],
   "source": [
    "timed_results_test_df = pd.DataFrame({\"r8\": [x[3] for x in r8_results_timed],\n",
    "                                \"r52\": [x[3] for x in r52_results_timed],\n",
    "                                \"ng20\": [x[3] for x in ng20_results_timed]},\n",
    "                               index=[model[0] for model in r8_optimised_models])\n",
    "timed_results_test_df.transpose().plot.barh(figsize=(8, 5), \n",
    "                                       title=\"Test time per model and dataset\")"
   ]
  },
  {
   "cell_type": "markdown",
   "metadata": {},
   "source": [
    "Can we have all these in one plot, and look at all these results at the same time?"
   ]
  },
  {
   "cell_type": "code",
   "execution_count": 75,
   "metadata": {
    "collapsed": false
   },
   "outputs": [
    {
     "data": {
      "text/plain": [
       "[]"
      ]
     },
     "execution_count": 75,
     "metadata": {},
     "output_type": "execute_result"
    },
    {
     "data": {
      "image/png": "[encoded data removed]",
      "text/plain": [
       "<matplotlib.figure.Figure at 0x12fb7d290>"
      ]
     },
     "metadata": {},
     "output_type": "display_data"
    },
    {
     "data": {
      "image/png": "[encoded data removed]",
      "text/plain": [
       "<matplotlib.figure.Figure at 0x11d572690>"
      ]
     },
     "metadata": {},
     "output_type": "display_data"
    },
    {
     "data": {
      "image/png": "[encoded data removed]",
      "text/plain": [
       "<matplotlib.figure.Figure at 0x1219fa3d0>"
      ]
     },
     "metadata": {},
     "output_type": "display_data"
    }
   ],
   "source": [
    "ax0 = timed_results_acc_df[[\"r8\",\"r52\",\"ng20\"]].plot.bar(subplots=True, layout=(1,3), \n",
    "                              sharey=True, figsize=(8, 2), \n",
    "                              legend=False)\n",
    "plt.xticks([])\n",
    "ax0[0,0].set(ylabel=\"Accuracy\\n\")\n",
    "\n",
    "ax1 = timed_results_train_df[[\"r8\",\"r52\",\"ng20\"]].plot.bar(subplots=True, layout=(1,3), \n",
    "                                      figsize=(8, 2), legend=False)\n",
    "plt.xticks([])\n",
    "ax1[0,0].set(title=\"\")\n",
    "ax1[0,1].set(title=\"\")\n",
    "ax1[0,2].set(title=\"\")\n",
    "ax1[0,0].set(ylabel=\"Train time\\n(different scales!)\")\n",
    "\n",
    "ax2 = timed_results_test_df[[\"r8\",\"r52\",\"ng20\"]].plot.bar(subplots=True, layout=(1,3), \n",
    "                                     figsize=(8, 2), legend=False)\n",
    "ax2[0,0].set(title=\"\")\n",
    "ax2[0,1].set(title=\"\")\n",
    "ax2[0,2].set(title=\"\")\n",
    "ax2[0,0].set(ylabel=\"Test time\\n(different scales!)\")\n",
    "\n",
    "plt.plot()"
   ]
  },
  {
   "cell_type": "markdown",
   "metadata": {},
   "source": [
    "Before starting to comment on these results, it's worth remembering that the Dumb Classifier had Accuracy values of 0.49 for `r8`, 0.42 for `r52`, and 0.05 for `ng20`.  Looking at the plots in the top row, it's easy to see that these models have much better results.\n",
    "\n",
    "I did not say much about training and testing time before, but looking at the bottom two rows shows an interesting trend: in general, models that take longer to train (because they are creating their own representation of the dataset) will be faster to test and vice-versa.  The model that is faster to train is kNN, because it just needs to load the dataset; but every time it needs to classify a document, it needs to search the entire dataset for the closest document, so it's very slow.  I said \"in general\" before, because RandomForest takes longer to train than DecisionTree (because it needs to generate multiple trees), but it also takes longer to test (because it needs to take into account results from different trees), so it's the exception to the rule.\n",
    "\n",
    "Ideally, we would like to have a model that has a very high Accuracy, but is also fast to train and (more importantly) test.  The model with highest Accuracy for all datasets is SVM.  This model is also one of the fastest to train and test.\n",
    "\n",
    "From these results I would say that, for a single-label text classification task, if you have to choose one model to implement and optimise, choose SVM using a linear kernel."
   ]
  },
  {
   "cell_type": "markdown",
   "metadata": {},
   "source": [
    "## Summary\n",
    "\n",
    "In the beginning of this project, I wrote that \"The main goal is to reproduce part of my PhD work using state-of-the-art libraries in Python (sklearn, matplotlib, seaborn), and be able to assess how this area evolved in the past 10 years.\"\n",
    "\n",
    "I think that I was able to achieve this goal, go a bit further, and there still is a lot of future work to be done.\n",
    "\n",
    "### Approach and results\n",
    "\n",
    "I started by loading the csv files for the three datasets, and it all went as expected.\n",
    "The results of my initial analisys agree with what was previously published regarding the number of documents per class, both for training and test sets.  I also created word clouds with the 50 most common words for each dataset, and discussed some interesting aspects.\n",
    "\n",
    "The fist thing I tried was to find in sklearn models that were \"equivalent\" to the ones that I used in my PhD work.  The algorithm that I used for tfidf is slightly different from the one implemented in sklearn (even after changing some parameters), so the results obtained now are different from previous results (but not too far off).  SVM using a linear kernel still was the best performing model for all datasets.\n",
    "\n",
    "Then I tried to reproduce what in my PhD work I called \"combining LSI with other models\".  In sklearn, LSI is considered a feature selection algorithm and is called Singular Value Decomposition.  The main idea is the same (despite the different names).  Like before, combining LSI with SVM worsens results.  I had not combined LSI with centroids in my PhD work; here it worsens results.  In my PhD work, LSI improved results when combined with kNN (when k=1 it's also called vector model), but here this only happens for the r* datasets but not for the ng20 dataset; I imagine it's the different way to calculate tfifd that makes a difference.  In all cases, Accuracy is still below the one achieved using SVM with a linear kernel (and standard tfidf feature selection).\n",
    "\n",
    "After that, I decided to apply some models, available in sklearn, that I had not used in my PhD work.  I was particularly interested in finding out how RandomTrees, Boosting and Ensembles would behave.  In a single sentence: SVM using a linear kernel is still the best model for all datasets.\n",
    "\n",
    "Then, I went on by using GridSearchCV to optimise parameters for the most promising models.  The goal was to see if it was possible to outperform SVM, if I could find the best combination of parameters.  Some of the models saw their performance increase with the new parameters.  But SVM using a linear kernel still outperforms them all.\n",
    "\n",
    "Finally, I compared Accuracy and execution times for the optimised models.  All things considered, SVM still comes on top, because even though it takes some time to learn the model (but not very long), it is very fast when asked to classify a document.\n",
    "\n",
    "### Successes, setbacks, and lessons learned\n",
    "\n",
    "I think that this project was successful, in that I was able to reproduce, and in some cases improve on, previous results.\n",
    "\n",
    "My first setback was going back to my thesis and remembering what I had done.  It was not always easy to find the models in sklearn to match the models in my thesis, and in some cases both implementations had differences that I was unable to overcome, even after tweaking the parameters.  I did not go back to my Java implementation of some of the models, that would have been overwhelming at this point.\n",
    "\n",
    "I was really happy to be able to use GridSearchCV to optimise parameters.  I implemented code to run parameter combinations at for my thesis, but then I did the \"optimisation\" using PivotTables in Excel.  GridSearchCV makes everything much easier.\n",
    "\n",
    "I still do not master plotting as much as I would like to, and it was hard to decide what the last figure should look like, so that I was able to compare Accuracy and times in the same place.\n",
    "\n",
    "### Future work\n",
    "\n",
    "There are so many other paths that this project could have led me to, but with a limited time frame I had to make some hard choices.  I think the line of thought that I explored was interesting, but I could also have chosen to:\n",
    "\n",
    "- Find more models in sklearn to implement and optimise.  Maybe this would have led to finding a model that was better than SVM.\n",
    "- Find more datasets to test the available models.  Maybe different models were better suited to use with different languages.\n",
    "- Explore different algorithms for feature selection, and try out combinations between feature selection parameters and models.\n",
    "- Use larger parameter grids for GridSearchCV.\n",
    "- Use other evaluation metrics besides Accuracy, like Precision, Recall, F1, etc.  I chose to use a single measure because it's the most widely used success measure for single-label text classification tasks, and results are easy to intuitively understand.\n",
    "- Use Amazon Web Services (AWS) to be able to try more models or bigger datasets.  This is a task that can be easily parallelisable, because different datasets can be tested independently.  Then all results can be collected and processed as a whole.\n",
    "\n",
    "I will definitively do some of these in the future."
   ]
  },
  {
   "cell_type": "markdown",
   "metadata": {},
   "source": [
    "## Blog post summary\n",
    "\n",
    "Blog post here:\n",
    "\n",
    "https://acardocacho.github.io/capstone/"
   ]
  },
  {
   "cell_type": "code",
   "execution_count": null,
   "metadata": {
    "collapsed": true
   },
   "outputs": [],
   "source": []
  }
 ],
 "metadata": {
  "anaconda-cloud": {},
  "kernelspec": {
   "display_name": "Python [conda root]",
   "language": "python",
   "name": "conda-root-py"
  },
  "language_info": {
   "codemirror_mode": {
    "name": "ipython",
    "version": 2
   },
   "file_extension": ".py",
   "mimetype": "text/x-python",
   "name": "python",
   "nbconvert_exporter": "python",
   "pygments_lexer": "ipython2",
   "version": "2.7.12"
  }
 },
 "nbformat": 4,
 "nbformat_minor": 1
}
